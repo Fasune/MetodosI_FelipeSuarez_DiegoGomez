{
 "cells": [
  {
   "cell_type": "code",
   "execution_count": 1,
   "id": "2b2e03d4",
   "metadata": {},
   "outputs": [
    {
     "data": {
      "text/html": [
       "<style>.container { width:100% !important; }</style>"
      ],
      "text/plain": [
       "<IPython.core.display.HTML object>"
      ]
     },
     "metadata": {},
     "output_type": "display_data"
    }
   ],
   "source": [
    "from IPython.display import display, HTML\n",
    "display(HTML(\"<style>.container { width:100% !important; }</style>\"))\n",
    "import numpy as np\n",
    "import matplotlib.pyplot as plt\n",
    "from scipy import integrate\n",
    "import sympy as sym\n",
    "sym.init_printing(use_unicode=True)\n",
    "from time import sleep\n",
    "from tqdm import tqdm"
   ]
  },
  {
   "cell_type": "code",
   "execution_count": 2,
   "id": "40508982",
   "metadata": {},
   "outputs": [],
   "source": []
  },
  {
   "cell_type": "code",
   "execution_count": 16,
   "id": "e8a283eb",
   "metadata": {},
   "outputs": [
    {
     "name": "stdout",
     "output_type": "stream",
     "text": [
      "0.3631688911692125\n"
     ]
    }
   ],
   "source": [
    "def Laguerre(L,m):\n",
    "    polinomio=((2*m-1-x)*L[m-1]-(m-1)*L[m-2])/m\n",
    "    return polinomio\n",
    "def GetLaguerre(n,x):\n",
    "    #y = (x**2 - 1)**n\n",
    "    x = sym.Symbol('x',real=True)\n",
    "    #y = sym.Symbol('y',real=True)\n",
    "    #L=np.zeros(n)\n",
    "    L=[]\n",
    "    L.append(1)\n",
    "    L.append(1-x)\n",
    "    #L[0]=1\n",
    "    #L[1]=1-x    \n",
    "    for m in range(2,n):\n",
    "        L.append(Laguerre(L,m))\n",
    "        #sym.diff( y,x,n )/(2**n*np.math.factorial(n))\n",
    "    \n",
    "    return L[-1]\n",
    "\n",
    "x = sym.Symbol('x',real=True)\n",
    "def f(x):\n",
    "    return x**3/(np.exp(x)-1)\n",
    "n=6\n",
    "#print(GetLaguerre(n,x))\n",
    "DLaguerre=[]\n",
    "L=[]\n",
    "L.append(1)\n",
    "L.append(1-x)\n",
    "for i in range(2,n):\n",
    "    L.append(Laguerre(L,i))\n",
    "for i in range(n):\n",
    "    DLaguerre.append(sym.diff(L[i],x,1))\n",
    "\n",
    "#print(DLaguerre)\n",
    "\n",
    "def GetNewton(f,df,xn,itmax=10000,precision=1e-14):\n",
    "    \n",
    "    error = 1.\n",
    "    it = 0\n",
    "    \n",
    "    while error >= precision and it < itmax:\n",
    "        \n",
    "        try:\n",
    "            \n",
    "            xn1 = xn - f(xn)/df(xn)\n",
    "            \n",
    "            error = np.abs(f(xn)/df(xn))\n",
    "            \n",
    "        except ZeroDivisionError:\n",
    "            print('Zero Division')\n",
    "            \n",
    "        xn = xn1\n",
    "        it += 1\n",
    "        \n",
    "    if it == itmax:\n",
    "        return False\n",
    "    else:\n",
    "        return xn\n",
    "    \n",
    "def GetRoots(f,df,x,tolerancia = 14):\n",
    "    \n",
    "    Roots = np.array([])\n",
    "    \n",
    "    for i in x:\n",
    "        \n",
    "        root = GetNewton(f,df,i)\n",
    "        \n",
    "        if root != False:\n",
    "            \n",
    "            croot = np.round( root, tolerancia )\n",
    "            \n",
    "            if croot not in Roots:\n",
    "                Roots = np.append(Roots, croot)\n",
    "                \n",
    "    Roots.sort()\n",
    "    \n",
    "    return Roots\n",
    "\n",
    "def GetAllRoots(n):\n",
    "    xn= np.linspace(0,(n+(n-1)*(n)**0.5)+1,100)\n",
    "    x = sym.Symbol('x',real=True)\n",
    "    DLaguerre=[]\n",
    "    L=[]\n",
    "    L.append(1)\n",
    "    L.append(1-x)\n",
    "    for i in range(2,n):\n",
    "        L.append(Laguerre(L,i))\n",
    "    #print(L)\n",
    "    for i in range(n):\n",
    "        DLaguerre.append(sym.diff(L[i],x,1))\n",
    "    \n",
    "    poly = sym.lambdify([x],L[n-1],'numpy')\n",
    "    Dpoly = sym.lambdify([x],DLaguerre[n-1],'numpy')\n",
    "    Roots = GetRoots(poly,Dpoly,xn)\n",
    "    \n",
    "    return Roots\n",
    "\n",
    "def GetWeightsGLag(n):\n",
    "    Roots_=GetAllRoots(n)\n",
    "    x = sym.Symbol('x',real=True)\n",
    "    allck=[]\n",
    "    #print(len(Roots_))\n",
    "    L=[]\n",
    "    L.append(1)\n",
    "    L.append(1-x)\n",
    "    for i in range(2,n+1):\n",
    "        L.append(Laguerre(L,i))\n",
    "    Ln_1=sym.lambdify([x],L[n],'numpy')\n",
    "    for xk in Roots_:\n",
    "        #print(xk)\n",
    "        ck=xk/(((n+1)**2)*(Ln_1(xk))**2)\n",
    "        \n",
    "        allck.append(ck)\n",
    "    return allck\n",
    "\n",
    "Roots = GetAllRoots(n)\n",
    "pesos=GetWeightsGLag(n)\n",
    "sumatoria_total=0\n",
    "for i in range(len(pesos)):\n",
    "    sumatoria_total+=pesos[i]*f(Roots[i])\n",
    "\n",
    "print(sumatoria_total)\n",
    "#print('valor real',(np.pi**4)/15)"
   ]
  },
  {
   "cell_type": "code",
   "execution_count": 17,
   "id": "045d9fe8",
   "metadata": {},
   "outputs": [
    {
     "data": {
      "text/plain": [
       "[<matplotlib.lines.Line2D at 0x2dbde56e550>]"
      ]
     },
     "execution_count": 17,
     "metadata": {},
     "output_type": "execute_result"
    },
    {
     "data": {
      "image/png": "[encoded data removed]",
      "text/plain": [
       "<Figure size 640x480 with 1 Axes>"
      ]
     },
     "metadata": {},
     "output_type": "display_data"
    }
   ],
   "source": [
    "plot_n=[]\n",
    "plot_error=[]\n",
    "for n in range(2,11):\n",
    "    Roots = GetAllRoots(n)\n",
    "    pesos=GetWeightsGLag(n)\n",
    "    sumatoria_total=0\n",
    "    for i in range(len(pesos)):\n",
    "        sumatoria_total+=pesos[i]*f(Roots[i])\n",
    "    plot_n.append(n)\n",
    "    plot_error.append((sumatoria_total/(np.pi**4)/15))\n",
    "    \n",
    "plt.plot(plot_n,plot_error)"
   ]
  },
  {
   "cell_type": "code",
   "execution_count": null,
   "id": "787dd502",
   "metadata": {},
   "outputs": [],
   "source": []
  }
 ],
 "metadata": {
  "kernelspec": {
   "display_name": "Python 3 (ipykernel)",
   "language": "python",
   "name": "python3"
  },
  "language_info": {
   "codemirror_mode": {
    "name": "ipython",
    "version": 3
   },
   "file_extension": ".py",
   "mimetype": "text/x-python",
   "name": "python",
   "nbconvert_exporter": "python",
   "pygments_lexer": "ipython3",
   "version": "3.11.4"
  }
 },
 "nbformat": 4,
 "nbformat_minor": 5
}

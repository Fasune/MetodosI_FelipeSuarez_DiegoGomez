{
 "cells": [
  {
   "cell_type": "code",
   "execution_count": 1,
   "metadata": {},
   "outputs": [],
   "source": [
    "import numpy as np\n",
    "import matplotlib.pyplot as plt\n",
    "from scipy import integrate\n",
    "import sympy as sym"
   ]
  },
  {
   "cell_type": "code",
   "execution_count": 7,
   "metadata": {},
   "outputs": [
    {
     "data": {
      "text/latex": [
       "$\\displaystyle - \\frac{9 h^{5}}{10}$"
      ],
      "text/plain": [
       "-9*h**5/10"
      ]
     },
     "execution_count": 7,
     "metadata": {},
     "output_type": "execute_result"
    }
   ],
   "source": [
    "h = sym.Symbol('h',real=True)\n",
    "x = sym.Symbol('x',real=True)\n",
    "y = sym.Symbol('y',real=True)\n",
    "c = sym.Symbol('c',real=True)\n",
    "poly = x*(x-h)*(x-2*h)*(x-3*h)\n",
    "I=sym.integrate(poly,(x,0,3*h))\n",
    "I"
   ]
  },
  {
   "cell_type": "code",
   "execution_count": 22,
   "metadata": {},
   "outputs": [
    {
     "data": {
      "text/latex": [
       "$\\displaystyle - 2 h \\left(- h + x\\right)^{3} - h^{2} \\left(- h + x\\right)^{2} + 2 h^{3} \\left(- h + x\\right) + O\\left(\\left(- h + x\\right)^{4}; x\\rightarrow h\\right)$"
      ],
      "text/plain": [
       "-2*h*(-h + x)**3 - h**2*(-h + x)**2 + 2*h**3*(-h + x) + O((-h + x)**4, (x, h))"
      ]
     },
     "execution_count": 22,
     "metadata": {},
     "output_type": "execute_result"
    }
   ],
   "source": [
    "#Fijemonos que reemplazando Simpson en el limiete de integración, la aproximación es de CERO\n",
    "f=sym.Function('f')(x)\n",
    "taylorExpansion=sym.series(poly,x,h,4)\n",
    "\n",
    "IReal=sym.integrate(taylorExpansion,(x,0,3*h))\n",
    "Ifuncion=sym.integrate(poly,(x,0,3*h))\n",
    "cuarta=sym.diff(taylorExpansion,x,4)\n",
    "taylorExpansion"
   ]
  },
  {
   "cell_type": "code",
   "execution_count": 24,
   "metadata": {},
   "outputs": [
    {
     "data": {
      "text/latex": [
       "$\\displaystyle 0.375 h \\left(x \\left(- 3 h + x\\right) \\left(- 2 h + x\\right) \\left(- h + x\\right) - 6 h \\left(- h + x\\right)^{3} + 6 h \\left(- 2 h + x\\right)^{3} + 6 h \\left(- 3 h + x\\right)^{3} - 3 h^{2} \\left(- h + x\\right)^{2} - 3 h^{2} \\left(- 2 h + x\\right)^{2} + 11 h^{2} \\left(- 3 h + x\\right)^{2} + 6 h^{3} \\left(- h + x\\right) - 6 h^{3} \\left(- 2 h + x\\right) + 6 h^{3} \\left(- 3 h + x\\right) + O\\left(\\left(- h + x\\right)^{4}; x\\rightarrow h\\right) + O\\left(\\left(- 2 h + x\\right)^{4}; x\\rightarrow 2 h\\right) + O\\left(\\left(- 3 h + x\\right)^{4}; x\\rightarrow 3 h\\right)\\right)$"
      ],
      "text/plain": [
       "0.375*h*(x*(-3*h + x)*(-2*h + x)*(-h + x) - 6*h*(-h + x)**3 + 6*h*(-2*h + x)**3 + 6*h*(-3*h + x)**3 - 3*h**2*(-h + x)**2 - 3*h**2*(-2*h + x)**2 + 11*h**2*(-3*h + x)**2 + 6*h**3*(-h + x) - 6*h**3*(-2*h + x) + 6*h**3*(-3*h + x) + O((-h + x)**4, (x, h)) + O((-2*h + x)**4, (x, 2*h)) + O((-3*h + x)**4, (x, 3*h)))"
      ]
     },
     "execution_count": 24,
     "metadata": {},
     "output_type": "execute_result"
    }
   ],
   "source": [
    "#Fijemonos que reemplazando Simpson en el limiete de integración, la aproximación es de CERO\n",
    "f=sym.Function('f')(x)\n",
    "a=sym.series(poly,x,h,4)\n",
    "b=sym.series(poly,x,2*h,4)\n",
    "c=sym.series(poly,x,3*h,4)\n",
    "Simpson=(3/8)*h*(poly+3*a+3*b+c)\n",
    "Simpson"
   ]
  }
 ],
 "metadata": {
  "kernelspec": {
   "display_name": "base",
   "language": "python",
   "name": "python3"
  },
  "language_info": {
   "codemirror_mode": {
    "name": "ipython",
    "version": 3
   },
   "file_extension": ".py",
   "mimetype": "text/x-python",
   "name": "python",
   "nbconvert_exporter": "python",
   "pygments_lexer": "ipython3",
   "version": "3.8.3"
  },
  "orig_nbformat": 4
 },
 "nbformat": 4,
 "nbformat_minor": 2
}

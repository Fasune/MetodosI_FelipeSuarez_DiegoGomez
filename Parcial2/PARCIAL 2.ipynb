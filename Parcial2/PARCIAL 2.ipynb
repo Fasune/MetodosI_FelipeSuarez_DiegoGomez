{
 "cells": [
  {
   "cell_type": "code",
   "execution_count": 69,
   "metadata": {},
   "outputs": [],
   "source": [
    "import numpy as np\n",
    "import matplotlib.pyplot as plt\n",
    "from scipy import integrate\n",
    "import sympy as sym\n",
    "sym.init_printing(use_unicode=True)"
   ]
  },
  {
   "cell_type": "code",
   "execution_count": 70,
   "metadata": {},
   "outputs": [
    {
     "data": {
      "text/plain": [
       "(array([-0.9931286 , -0.96397193, -0.91223443, -0.83911697, -0.74633191,\n",
       "        -0.63605368, -0.510867  , -0.37370609, -0.22778585, -0.07652652,\n",
       "         0.07652652,  0.22778585,  0.37370609,  0.510867  ,  0.63605368,\n",
       "         0.74633191,  0.83911697,  0.91223443,  0.96397193,  0.9931286 ]),\n",
       " array([0.01761401, 0.04060143, 0.06267205, 0.08327674, 0.10193012,\n",
       "        0.11819453, 0.13168864, 0.14209611, 0.14917299, 0.15275339,\n",
       "        0.15275339, 0.14917299, 0.14209611, 0.13168864, 0.11819453,\n",
       "        0.10193012, 0.08327674, 0.06267205, 0.04060143, 0.01761401]))"
      ]
     },
     "execution_count": 70,
     "metadata": {},
     "output_type": "execute_result"
    }
   ],
   "source": [
    "N = 20\n",
    "Roots, Weights = np.polynomial.legendre.leggauss(N)\n",
    "Roots,Weights"
   ]
  },
  {
   "cell_type": "code",
   "execution_count": 71,
   "metadata": {},
   "outputs": [],
   "source": [
    "l0=100*10**-9\n",
    "l1=400*10**-9\n",
    "h=6.626*10**-34\n",
    "k=1.3806*10**-23\n",
    "c=3*10**8\n",
    "T=5772\n",
    "f0=c/l0\n",
    "f1=c/l1\n",
    "b=(h*f0)/(k*T)\n",
    "a=(h*f1)/(k*T)"
   ]
  },
  {
   "cell_type": "code",
   "execution_count": 72,
   "metadata": {},
   "outputs": [],
   "source": [
    "def funcion(x):\n",
    "    return (x**3)/(np.exp(x)-1)"
   ]
  },
  {
   "cell_type": "code",
   "execution_count": 73,
   "metadata": {},
   "outputs": [
    {
     "data": {
      "image/png": "[encoded data removed]",
      "text/latex": [
       "$\\displaystyle 0.7886360406075117$"
      ],
      "text/plain": [
       "0.7886360406075117"
      ]
     },
     "execution_count": 73,
     "metadata": {},
     "output_type": "execute_result"
    }
   ],
   "source": [
    "t = 0.5*( (b-a)*Roots + a + b )\n",
    "numerador = 0.5*(b-a)*np.sum(Weights*funcion(t))\n",
    "numerador"
   ]
  },
  {
   "cell_type": "code",
   "execution_count": null,
   "metadata": {},
   "outputs": [],
   "source": []
  },
  {
   "cell_type": "code",
   "execution_count": 74,
   "metadata": {},
   "outputs": [],
   "source": [
    "Ceros, Weights = np.polynomial.laguerre.laggauss(N)\n",
    "f = lambda x: (x**3)/(-np.exp(-x)+1)\n",
    "I = np.sum(f(Ceros)*Weights)"
   ]
  },
  {
   "cell_type": "code",
   "execution_count": 75,
   "metadata": {},
   "outputs": [
    {
     "data": {
      "image/png": "[encoded data removed]",
      "text/latex": [
       "$\\displaystyle 0.12144185397510186$"
      ],
      "text/plain": [
       "0.12144185397510186"
      ]
     },
     "execution_count": 75,
     "metadata": {},
     "output_type": "execute_result"
    }
   ],
   "source": [
    "Deno2=(np.pi**4)/15\n",
    "f=numerador/I\n",
    "f"
   ]
  },
  {
   "cell_type": "markdown",
   "metadata": {},
   "source": [
    "El ideam indica que el porcentaje de radiación UV es 7.2%. Lo anterior, puede ser debido a que la capa de ozono y la atmósfera sirven de protección ante la radiación electromagnética a estas frecuencias. De igual forma, otras condiciones metereológicas pueden afectar, como la nubosidad o la contaminación. De ahí que se aleje lo obtenido del valor teórico."
   ]
  }
 ],
 "metadata": {
  "kernelspec": {
   "display_name": "base",
   "language": "python",
   "name": "python3"
  },
  "language_info": {
   "codemirror_mode": {
    "name": "ipython",
    "version": 3
   },
   "file_extension": ".py",
   "mimetype": "text/x-python",
   "name": "python",
   "nbconvert_exporter": "python",
   "pygments_lexer": "ipython3",
   "version": "3.8.3"
  },
  "orig_nbformat": 4
 },
 "nbformat": 4,
 "nbformat_minor": 2
}

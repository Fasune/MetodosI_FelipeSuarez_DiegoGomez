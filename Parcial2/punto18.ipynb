{
 "cells": [
  {
   "cell_type": "code",
   "execution_count": 3,
   "id": "048cf420",
   "metadata": {},
   "outputs": [
    {
     "data": {
      "text/html": [
       "<style>.container { width:100% !important; }</style>"
      ],
      "text/plain": [
       "<IPython.core.display.HTML object>"
      ]
     },
     "metadata": {},
     "output_type": "display_data"
    }
   ],
   "source": [
    "from IPython.display import display, HTML\n",
    "display(HTML(\"<style>.container { width:100% !important; }</style>\"))\n",
    "import numpy as np\n",
    "import math as mt\n",
    "import matplotlib.pyplot as plt\n",
    "from scipy import integrate\n",
    "import sympy as sym\n",
    "sym.init_printing(use_unicode=True)\n",
    "from time import sleep\n",
    "from tqdm import tqdm"
   ]
  },
  {
   "cell_type": "raw",
   "id": "d6d12d41",
   "metadata": {},
   "source": []
  },
  {
   "cell_type": "code",
   "execution_count": 6,
   "id": "ace24625",
   "metadata": {},
   "outputs": [
    {
     "ename": "NameError",
     "evalue": "name 'roots' is not defined",
     "output_type": "error",
     "traceback": [
      "\u001b[1;31m---------------------------------------------------------------------------\u001b[0m",
      "\u001b[1;31mNameError\u001b[0m                                 Traceback (most recent call last)",
      "Cell \u001b[1;32mIn[6], line 124\u001b[0m\n\u001b[0;32m    122\u001b[0m \u001b[38;5;28;01mfor\u001b[39;00m i \u001b[38;5;129;01min\u001b[39;00m \u001b[38;5;28mrange\u001b[39m(\u001b[38;5;28mlen\u001b[39m(pesos)):\n\u001b[0;32m    123\u001b[0m     sumatoria_total\u001b[38;5;241m+\u001b[39m\u001b[38;5;241m=\u001b[39mpesos[i]\u001b[38;5;241m*\u001b[39mf(Roots[i])\n\u001b[1;32m--> 124\u001b[0m \u001b[38;5;28mprint\u001b[39m(\u001b[38;5;124m'\u001b[39m\u001b[38;5;124mprimeras 20 raices\u001b[39m\u001b[38;5;124m'\u001b[39m, roots)\n\u001b[0;32m    125\u001b[0m \u001b[38;5;28mprint\u001b[39m(\u001b[38;5;124m'\u001b[39m\u001b[38;5;124mprimeros 20 pesos\u001b[39m\u001b[38;5;124m'\u001b[39m, pesos)\n",
      "\u001b[1;31mNameError\u001b[0m: name 'roots' is not defined"
     ]
    }
   ],
   "source": [
    "def Hermite(H,m):\n",
    "    polinomio=(2*x*H[m-1])-(2*m*(H[m-2]))\n",
    "    #((2*m-1-x)*L[m-1]-(m-1)*L[m-2])/m\n",
    "    return polinomio\n",
    "def GetHermite(n,x):\n",
    "    #y = (x**2 - 1)**n\n",
    "    x = sym.Symbol('x',real=True)\n",
    "    #y = sym.Symbol('y',real=True)\n",
    "    #L=np.zeros(n)\n",
    "    H=[]\n",
    "    H.append(1)\n",
    "    H.append(2*x)\n",
    "    #L[0]=1\n",
    "    #L[1]=1-x    \n",
    "    for m in range(2,n):\n",
    "        H.append(Hermite(H,m))\n",
    "        #sym.diff( y,x,n )/(2**n*np.math.factorial(n))\n",
    "    \n",
    "    return H[-1]\n",
    "\n",
    "x = sym.Symbol('x',real=True)\n",
    "def f(x):\n",
    "    return x**3/(np.exp(x)-1)\n",
    "n=20\n",
    "#print(GetLaguerre(n,x))\n",
    "DHermite=[]\n",
    "H=[]\n",
    "H.append(1)\n",
    "H.append(2*x)\n",
    "\n",
    "for i in range(2,n):\n",
    "    H.append(Hermite(H,i))\n",
    "for i in range(n):\n",
    "    DHermite.append(sym.diff(H[i],x,1))\n",
    "\n",
    "#print(DLaguerre)\n",
    "\n",
    "def GetNewton(f,df,xn,itmax=10000,precision=1e-14):\n",
    "    \n",
    "    error = 1.\n",
    "    it = 0\n",
    "    \n",
    "    while error >= precision and it < itmax:\n",
    "        \n",
    "        try:\n",
    "            \n",
    "            xn1 = xn - f(xn)/df(xn)\n",
    "            \n",
    "            error = np.abs(f(xn)/df(xn))\n",
    "            \n",
    "        except ZeroDivisionError:\n",
    "            print('Zero Division')\n",
    "            \n",
    "        xn = xn1\n",
    "        it += 1\n",
    "        \n",
    "    if it == itmax:\n",
    "        return False\n",
    "    else:\n",
    "        return xn\n",
    "    \n",
    "def GetRoots(f,df,x,tolerancia = 14):\n",
    "    \n",
    "    Roots = np.array([])\n",
    "    \n",
    "    for i in x:\n",
    "        \n",
    "        root = GetNewton(f,df,i)\n",
    "        \n",
    "        if root != False:\n",
    "            \n",
    "            croot = np.round( root, tolerancia )\n",
    "            \n",
    "            if croot not in Roots:\n",
    "                Roots = np.append(Roots, croot)\n",
    "                \n",
    "    Roots.sort()\n",
    "    \n",
    "    return Roots\n",
    "\n",
    "def GetAllRoots(n):\n",
    "    xn= np.linspace(-(np.sqrt(4*n+1)),(np.sqrt(4*n+1)) ,100)\n",
    "    x = sym.Symbol('x',real=True)\n",
    "    DHermite=[]\n",
    "    H=[]\n",
    "    H.append(1)\n",
    "    H.append(2*x)\n",
    "    for i in range(2,n):\n",
    "        H.append(Hermite(H,i))\n",
    "    #print(L)\n",
    "    for i in range(n):\n",
    "        DHermite.append(sym.diff(H[i],x,1))\n",
    "    \n",
    "    poly = sym.lambdify([x],H[n-1],'numpy')\n",
    "    Dpoly = sym.lambdify([x],DHermite[n-1],'numpy')\n",
    "    Roots = GetRoots(poly,Dpoly,xn)\n",
    " \n",
    "    return Roots\n",
    "\n",
    "def GetWeightsGLag(n):\n",
    "    Roots_=GetAllRoots(n)\n",
    "    x = sym.Symbol('x',real=True)\n",
    "    allck=[]\n",
    "    #print(len(Roots_))\n",
    "    H=[]\n",
    "    H.append(1)\n",
    "    H.append(2*x)\n",
    "    for i in range(2,n+1):\n",
    "        H.append(Hermite(H,i))\n",
    "    Hn_1=sym.lambdify([x],H[n-1],'numpy')\n",
    "    for xk in (range(len(Roots_))):\n",
    "#    for xk in Roots_:        \n",
    "        #print(xk)\n",
    "        ck=((2**(n-1))*mt.factorial(n)*((np.pi)**0.5))/(((n)**2)*(Hn_1(Roots_[xk]))**2)\n",
    "        \n",
    "        allck.append(ck)\n",
    "    return allck\n",
    "\n",
    "Roots = GetAllRoots(n)\n",
    "pesos=GetWeightsGLag(n)\n",
    "sumatoria_total=0\n",
    "for i in range(len(pesos)):\n",
    "    sumatoria_total+=pesos[i]*f(Roots[i])"
   ]
  },
  {
   "cell_type": "code",
   "execution_count": 7,
   "id": "ed0992b1",
   "metadata": {},
   "outputs": [
    {
     "name": "stdout",
     "output_type": "stream",
     "text": [
      "primeras 20 raices [-5.38748089 -4.60368245 -3.94476381 -3.34784057 -2.78847432 -2.25134657\n",
      " -1.7182371  -1.16810219 -0.5924591   0.5924591   1.16810219  1.7182371\n",
      "  2.25134657  2.78847432  3.34784057  3.94476381  4.60368245  5.38748089]\n",
      "primeros 20 pesos [1844571207185045.8, 7.828364799995402e+17, 6.18995843530684e+21, 1.88987612591689e+22, 2.4668684831947418e+23, 7.170240037353941e+24, 1.1971521839919943e+25, 3.1347578345125906e+25, 5.375647647052487e+25, 5.375647647052487e+25, 3.1347578345125906e+25, 1.1971521839919943e+25, 7.170240037353941e+24, 2.4668684831947418e+23, 1.88987612591689e+22, 6.18995843530684e+21, 7.828364799995402e+17, 1844571207185045.8]\n"
     ]
    }
   ],
   "source": [
    "print('primeras 20 raices', Roots)\n",
    "print('primeros 20 pesos', pesos)"
   ]
  },
  {
   "cell_type": "code",
   "execution_count": null,
   "id": "fb272343",
   "metadata": {},
   "outputs": [],
   "source": [
    "def function(x):\n",
    "    (1/(((2**1)mt.factorial(n))**0.5))*((1/np.pi)**0.25)*np.exp((-x**2)/2)*Hn(x)\n",
    "primeros20_n=[]\n",
    "pesos_primeros20_n=[]\n",
    "for n in range(2,11):\n",
    "    Roots = GetAllRoots(n)\n",
    "    pesos=GetWeightsGLag(n)\n",
    "    sumatoria_total=0\n",
    "    for i in range(len(pesos)):\n",
    "        sumatoria_total+=pesos[i]*f(Roots[i])\n",
    "    plot_n.append(n)\n",
    "    plot_error.append((sumatoria_total/(np.pi**4)/15))\n",
    "    \n"
   ]
  }
 ],
 "metadata": {
  "kernelspec": {
   "display_name": "Python 3 (ipykernel)",
   "language": "python",
   "name": "python3"
  },
  "language_info": {
   "codemirror_mode": {
    "name": "ipython",
    "version": 3
   },
   "file_extension": ".py",
   "mimetype": "text/x-python",
   "name": "python",
   "nbconvert_exporter": "python",
   "pygments_lexer": "ipython3",
   "version": "3.11.4"
  }
 },
 "nbformat": 4,
 "nbformat_minor": 5
}

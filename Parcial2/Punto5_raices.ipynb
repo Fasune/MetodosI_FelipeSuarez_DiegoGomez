{
 "cells": [
  {
   "cell_type": "code",
   "execution_count": 47,
   "metadata": {},
   "outputs": [],
   "source": [
    "import numpy as np\n",
    "import matplotlib.pyplot as plt\n",
    "import sympy as sym\n",
    "from scipy import integrate\n",
    "sym.init_printing(use_unicode=True)"
   ]
  },
  {
   "cell_type": "code",
   "execution_count": 48,
   "metadata": {},
   "outputs": [],
   "source": [
    "x = sym.Symbol('x',real=True)\n",
    "y = sym.Symbol('y',real=True)\n",
    "def GetLaguerre(n,x,y):\n",
    "\n",
    "    y = sym.exp(-x)*x**n\n",
    "    \n",
    "    poly = sym.exp(x)*sym.diff(y,x,n)/( np.math.factorial(n) )\n",
    "    \n",
    "    return poly"
   ]
  },
  {
   "cell_type": "code",
   "execution_count": 49,
   "metadata": {},
   "outputs": [
    {
     "data": {
      "image/png": "[encoded data removed]",
      "text/latex": [
       "$\\displaystyle \\frac{x^{20}}{2432902008176640000} - \\frac{x^{19}}{6082255020441600} + \\frac{19 x^{18}}{640237370572800} - \\frac{19 x^{17}}{5928123801600} + \\frac{323 x^{16}}{1394852659200} - \\frac{323 x^{15}}{27243216000} + \\frac{323 x^{14}}{726485760} - \\frac{323 x^{13}}{25945920} + \\frac{4199 x^{12}}{15966720} - \\frac{4199 x^{11}}{997920} + \\frac{46189 x^{10}}{907200} - \\frac{4199 x^{9}}{9072} + \\frac{4199 x^{8}}{1344} - \\frac{323 x^{7}}{21} + \\frac{323 x^{6}}{6} - \\frac{646 x^{5}}{5} + \\frac{1615 x^{4}}{8} - 190 x^{3} + 95 x^{2} - 20 x + 1$"
      ],
      "text/plain": [
       "         20                  19                   18               17         \n",
       "        x                   x                 19⋅x             19⋅x           \n",
       "─────────────────── - ──────────────── + ─────────────── - ───────────── + ───\n",
       "2432902008176640000   6082255020441600   640237370572800   5928123801600   139\n",
       "\n",
       "     16             15           14         13          12         11         \n",
       "323⋅x          323⋅x        323⋅x      323⋅x      4199⋅x     4199⋅x     46189⋅\n",
       "────────── - ─────────── + ───────── - ──────── + ──────── - ──────── + ──────\n",
       "4852659200   27243216000   726485760   25945920   15966720    997920      9072\n",
       "\n",
       " 10         9         8        7        6        5         4                  \n",
       "x     4199⋅x    4199⋅x    323⋅x    323⋅x    646⋅x    1615⋅x         3       2 \n",
       "─── - ─────── + ─────── - ────── + ────── - ────── + ─────── - 190⋅x  + 95⋅x  \n",
       "00      9072      1344      21       6        5         8                     \n",
       "\n",
       "          \n",
       "          \n",
       "- 20⋅x + 1\n",
       "          "
      ]
     },
     "execution_count": 49,
     "metadata": {},
     "output_type": "execute_result"
    }
   ],
   "source": [
    "Pol=GetLaguerre(20,x,y)\n",
    "Pol"
   ]
  },
  {
   "cell_type": "code",
   "execution_count": 50,
   "metadata": {},
   "outputs": [
    {
     "data": {
      "image/png": "[encoded data removed]",
      "text/plain": [
       "<Figure size 432x288 with 1 Axes>"
      ]
     },
     "metadata": {
      "needs_background": "light"
     },
     "output_type": "display_data"
    }
   ],
   "source": [
    "_x = np.linspace(0,10,100)\n",
    "pn = sym.lambdify([x],Pol,'numpy')\n",
    "dPol=sym.diff(Pol,x,1)\n",
    "plt.plot(_x,pn(_x))\n",
    "plt.grid()"
   ]
  },
  {
   "cell_type": "code",
   "execution_count": 59,
   "metadata": {},
   "outputs": [
    {
     "data": {
      "text/plain": [
       "array([ 0.07053989,  0.37212682,  0.9165821 ,  1.70730653,  2.74919926,\n",
       "        4.04892531,  5.61517497,  7.45901745,  9.59439287, 12.03880255,\n",
       "       14.81429344, 17.94889552, 21.47878824, 25.45170279, 29.93255463,\n",
       "       35.01343424, 40.83305706, 47.61999405, 55.81079575, 66.52441653])"
      ]
     },
     "execution_count": 59,
     "metadata": {},
     "output_type": "execute_result"
    }
   ],
   "source": [
    "Raices, Weights = np.polynomial.laguerre.laggauss(20)\n",
    "Raices"
   ]
  },
  {
   "cell_type": "code",
   "execution_count": 60,
   "metadata": {},
   "outputs": [
    {
     "data": {
      "text/plain": [
       "array([1.68746802e-01, 2.91254362e-01, 2.66686103e-01, 1.66002453e-01,\n",
       "       7.48260647e-02, 2.49644173e-02, 6.20255084e-03, 1.14496239e-03,\n",
       "       1.55741773e-04, 1.54014409e-05, 1.08648637e-06, 5.33012091e-08,\n",
       "       1.75798118e-09, 3.72550240e-11, 4.76752925e-13, 3.37284424e-15,\n",
       "       1.15501434e-17, 1.53952214e-20, 5.28644273e-24, 1.65645661e-28])"
      ]
     },
     "execution_count": 60,
     "metadata": {},
     "output_type": "execute_result"
    }
   ],
   "source": [
    "Weights"
   ]
  },
  {
   "cell_type": "code",
   "execution_count": 51,
   "metadata": {},
   "outputs": [],
   "source": [
    "def GetNewton(f,df,xn,itmax=10000,precision=1e-14):\n",
    "    \n",
    "    error = 1.\n",
    "    it = 0\n",
    "    \n",
    "    while error >= precision and it < itmax:\n",
    "        \n",
    "        try:\n",
    "            \n",
    "            xn1 = xn - f(xn)/df(xn)\n",
    "            \n",
    "            error = np.abs(f(xn)/df(xn))\n",
    "            \n",
    "        except ZeroDivisionError:\n",
    "            print('Zero Division')\n",
    "            \n",
    "        xn = xn1\n",
    "        it += 1\n",
    "        \n",
    "    if it == itmax:\n",
    "        return False\n",
    "    else:\n",
    "        return xn"
   ]
  },
  {
   "cell_type": "code",
   "execution_count": 52,
   "metadata": {},
   "outputs": [],
   "source": [
    "def GetRoots(f,df,x,tolerancia = 14):\n",
    "    \n",
    "    Roots = np.array([])\n",
    "    \n",
    "    for i in x:\n",
    "        \n",
    "        root = GetNewton(f,df,i)\n",
    "        \n",
    "        if root != False:\n",
    "            \n",
    "            croot = np.round( root, tolerancia )\n",
    "            \n",
    "            if croot not in Roots:\n",
    "                Roots = np.append(Roots, croot)\n",
    "                \n",
    "    Roots.sort()\n",
    "    \n",
    "    return Roots"
   ]
  },
  {
   "cell_type": "code",
   "execution_count": 53,
   "metadata": {},
   "outputs": [],
   "source": [
    "def GetAllRoots(xn,Pol,dPol):\n",
    "    \n",
    "    poly = sym.lambdify([x],Pol,'numpy')\n",
    "    Dpoly = sym.lambdify([x],dPol,'numpy')\n",
    "    Roots = GetRoots(poly,Dpoly,xn)\n",
    "    \n",
    "    return Roots"
   ]
  },
  {
   "cell_type": "code",
   "execution_count": 54,
   "metadata": {},
   "outputs": [
    {
     "data": {
      "text/plain": [
       "array([0.07053989, 0.37212682, 0.9165821 , 1.70730653, 1.70730653,\n",
       "       2.74919926])"
      ]
     },
     "execution_count": 54,
     "metadata": {},
     "output_type": "execute_result"
    }
   ],
   "source": [
    "xn = np.linspace(0,50,100)\n",
    "Roots= GetAllRoots(xn,Pol,dPol)\n",
    "Roots"
   ]
  },
  {
   "cell_type": "code",
   "execution_count": 55,
   "metadata": {},
   "outputs": [],
   "source": [
    "def GetWeights(Roots,dPol):\n",
    "    \n",
    "    Dpoly = sym.lambdify([x],dPol,'numpy')\n",
    "    Weights = 2/((1-Roots**2)*Dpoly(Roots)**2)\n",
    "    \n",
    "    return Weights"
   ]
  },
  {
   "cell_type": "code",
   "execution_count": 56,
   "metadata": {},
   "outputs": [
    {
     "data": {
      "text/plain": [
       "array([ 0.02392581,  0.25160961,  3.05784231, -0.29601308, -0.29601308,\n",
       "       -0.0627352 ])"
      ]
     },
     "execution_count": 56,
     "metadata": {},
     "output_type": "execute_result"
    }
   ],
   "source": [
    "Pesos=GetWeights(Roots,dPol)\n",
    "Pesos"
   ]
  }
 ],
 "metadata": {
  "kernelspec": {
   "display_name": "base",
   "language": "python",
   "name": "python3"
  },
  "language_info": {
   "codemirror_mode": {
    "name": "ipython",
    "version": 3
   },
   "file_extension": ".py",
   "mimetype": "text/x-python",
   "name": "python",
   "nbconvert_exporter": "python",
   "pygments_lexer": "ipython3",
   "version": "3.8.3"
  },
  "orig_nbformat": 4
 },
 "nbformat": 4,
 "nbformat_minor": 2
}

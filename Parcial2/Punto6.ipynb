{
 "cells": [
  {
   "cell_type": "code",
   "execution_count": 15,
   "metadata": {},
   "outputs": [],
   "source": [
    "import numpy as np\n",
    "import matplotlib.pyplot as plt\n",
    "from scipy import integrate\n",
    "import math"
   ]
  },
  {
   "cell_type": "code",
   "execution_count": 16,
   "metadata": {},
   "outputs": [],
   "source": [
    "def IntTrapz(f,x):\n",
    "    I=0.5*(f(x[0])+f(x[-1]))\n",
    "    h=x[1]-x[0]\n",
    "    for i in range(1,len(x)-1):\n",
    "        I+=f(x[i])\n",
    "    I*=h\n",
    "    return I"
   ]
  },
  {
   "cell_type": "code",
   "execution_count": 17,
   "metadata": {},
   "outputs": [],
   "source": [
    "def IntSimpson(f,x):\n",
    "    xm=(x[0]+x[-1])/2\n",
    "    h=(x[-1]-x[0])/2\n",
    "    I=(h/3)*(f(x[0])+4*f(xm)+f(x[-1]))\n",
    "    return I"
   ]
  },
  {
   "cell_type": "code",
   "execution_count": 18,
   "metadata": {},
   "outputs": [],
   "source": [
    "def IntSimpComp(f,x):\n",
    "    h=x[1]-x[0]\n",
    "    I=f[-1]+f[0]\n",
    "\n",
    "    for i in range(len(f[1:-1])):\n",
    "        if i%2 ==0:\n",
    "            I+=4*f[i+1]\n",
    "        else:\n",
    "            I+=2*f[i+1]\n",
    "    \n",
    "    I*=(h/3)\n",
    "    return I\n"
   ]
  },
  {
   "cell_type": "code",
   "execution_count": 19,
   "metadata": {},
   "outputs": [],
   "source": [
    "def funcion(x):\n",
    "    a=0.01/100\n",
    "    R=0.5/100\n",
    "    num=np.sqrt((a**2)-x**2)\n",
    "    den=R+x\n",
    "    return num/den"
   ]
  },
  {
   "cell_type": "code",
   "execution_count": 20,
   "metadata": {},
   "outputs": [],
   "source": [
    "x=np.linspace(-0.01/100,0.01/100,100)\n",
    "y=funcion(x)"
   ]
  },
  {
   "cell_type": "code",
   "execution_count": 21,
   "metadata": {},
   "outputs": [
    {
     "data": {
      "text/plain": [
       "Text(0, 0.5, 'y(x)')"
      ]
     },
     "execution_count": 21,
     "metadata": {},
     "output_type": "execute_result"
    },
    {
     "data": {
      "image/png": "[encoded data removed]",
      "text/plain": [
       "<Figure size 432x288 with 1 Axes>"
      ]
     },
     "metadata": {
      "needs_background": "light"
     },
     "output_type": "display_data"
    }
   ],
   "source": [
    "plt.plot(x*1000,y)\n",
    "plt.grid()\n",
    "plt.xlabel('x [mm]')\n",
    "plt.ylabel('y(x)')"
   ]
  },
  {
   "cell_type": "code",
   "execution_count": 22,
   "metadata": {},
   "outputs": [],
   "source": [
    "def DiscDerivative(f,x):  \n",
    "    d=np.zeros(len(f))\n",
    "    h=x[1]-x[0]\n",
    "    for i in range(2,len(f)-2):\n",
    "        d[i] = f[i+2] - 4*f[i+1] + 6*f[i] - 4*f[i-1] + f[i-2]\n",
    "        d[i] /= (x[1]-x[0])**4 \n",
    "    return d"
   ]
  },
  {
   "cell_type": "code",
   "execution_count": 23,
   "metadata": {},
   "outputs": [],
   "source": [
    "def GetDerivative(f,x):  \n",
    "    h=x[1]-x[0]\n",
    "    d = f(x + 2*h) - 4*f(x + h) + 6*f(x) - 4*f(x - h) + f(x - 2*h)\n",
    "    d /= h**4 \n",
    "    return d"
   ]
  },
  {
   "cell_type": "code",
   "execution_count": 24,
   "metadata": {},
   "outputs": [
    {
     "name": "stderr",
     "output_type": "stream",
     "text": [
      "<ipython-input-19-a7ef76f3397b>:4: RuntimeWarning: invalid value encountered in sqrt\n",
      "  num=np.sqrt((a**2)-x**2)\n"
     ]
    }
   ],
   "source": [
    "Error=0.5/100\n",
    "SeDer=GetDerivative(funcion,x)\n",
    "SegDer=np.nan_to_num(SeDer)\n",
    "CuartDer=DiscDerivative(SegDer,x)\n",
    "max_=np.max(np.abs(SegDer))\n",
    "max2_=np.max(np.abs(CuartDer))\n",
    "h_trapz=np.sqrt(Error*12/((0.02/100)*max_))\n",
    "h_Simp=(Error*180/((0.02/100)*(max2_)))**(1/4)\n",
    "N_trapz=math.ceil((0.02/100)/h_trapz)\n",
    "N_Simp=math.ceil((0.02/100)/h_Simp)"
   ]
  },
  {
   "cell_type": "code",
   "execution_count": 26,
   "metadata": {},
   "outputs": [
    {
     "data": {
      "text/plain": [
       "3.1419068742516417e-06"
      ]
     },
     "execution_count": 26,
     "metadata": {},
     "output_type": "execute_result"
    }
   ],
   "source": [
    "x_trapz=np.linspace(-0.01/100,0.01/100,N_trapz)\n",
    "x_Simp=np.linspace(-0.01/100,0.01/100,N_Simp)\n",
    "I_trapz=IntTrapz(funcion,x_trapz)\n",
    "I_Simp=IntSimpson(funcion,x_Simp)\n",
    "I_Comp=IntSimpComp(funcion(x_Simp),x_Simp)\n",
    "I_Comp\n"
   ]
  },
  {
   "cell_type": "code",
   "execution_count": 34,
   "metadata": {},
   "outputs": [
    {
     "data": {
      "text/plain": [
       "[2.6016716808269284e-06, 4.622757317101371e-08]"
      ]
     },
     "execution_count": 34,
     "metadata": {},
     "output_type": "execute_result"
    }
   ],
   "source": [
    "ValorReal=np.pi*((0.5/100)-np.sqrt((0.5/100)**2-(0.01/100)**2))\n",
    "Error_trapz=(np.abs(ValorReal-I_trapz)/ValorReal)*100\n",
    "Error_Simp=(np.abs(ValorReal-I_Comp)/ValorReal)*100\n",
    "Errores=[Error_trapz, Error_Simp]\n",
    "Errores\n"
   ]
  }
 ],
 "metadata": {
  "kernelspec": {
   "display_name": "base",
   "language": "python",
   "name": "python3"
  },
  "language_info": {
   "codemirror_mode": {
    "name": "ipython",
    "version": 3
   },
   "file_extension": ".py",
   "mimetype": "text/x-python",
   "name": "python",
   "nbconvert_exporter": "python",
   "pygments_lexer": "ipython3",
   "version": "3.8.3"
  },
  "orig_nbformat": 4
 },
 "nbformat": 4,
 "nbformat_minor": 2
}

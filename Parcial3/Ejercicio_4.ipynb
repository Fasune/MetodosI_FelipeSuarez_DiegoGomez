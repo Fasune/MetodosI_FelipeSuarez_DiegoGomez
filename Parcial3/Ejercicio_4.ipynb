{
 "cells": [
  {
   "cell_type": "code",
   "execution_count": 2,
   "metadata": {},
   "outputs": [],
   "source": [
    "import numpy as np"
   ]
  },
  {
   "cell_type": "code",
   "execution_count": 3,
   "metadata": {},
   "outputs": [],
   "source": [
    "def multMatrices(A,B):\n",
    "    if len(A[0])!=len(B):\n",
    "        return 'No se pueden multiplicar las matrices'\n",
    "    else:\n",
    "        n=np.shape(A)[0]\n",
    "        C=np.zeros((n,np.shape(B[0])[0]))\n",
    "        BT=np.transpose(B)\n",
    "        for i in range(n):\n",
    "            for j in range(np.shape(B[0])[0]):\n",
    "                C[i,j]=np.dot(A[i],BT[j])\n",
    "        return C\n"
   ]
  },
  {
   "cell_type": "code",
   "execution_count": 4,
   "metadata": {},
   "outputs": [
    {
     "data": {
      "text/plain": [
       "array([[ 4., -2.,  1.],\n",
       "       [20., -7., 12.],\n",
       "       [-8., 13., 21.]])"
      ]
     },
     "execution_count": 4,
     "metadata": {},
     "output_type": "execute_result"
    }
   ],
   "source": [
    "A=np.array([[1,0,0],\\\n",
    "           [5,1,0],\\\n",
    "           [-2,3,1]])\n",
    "\n",
    "B=np.array([[4,-2,1],\\\n",
    "           [0,3,7],\\\n",
    "           [0,0,2]])\n",
    "AB=multMatrices(A,B)\n",
    "AB"
   ]
  }
 ],
 "metadata": {
  "kernelspec": {
   "display_name": "base",
   "language": "python",
   "name": "python3"
  },
  "language_info": {
   "codemirror_mode": {
    "name": "ipython",
    "version": 3
   },
   "file_extension": ".py",
   "mimetype": "text/x-python",
   "name": "python",
   "nbconvert_exporter": "python",
   "pygments_lexer": "ipython3",
   "version": "3.8.3"
  }
 },
 "nbformat": 4,
 "nbformat_minor": 2
}

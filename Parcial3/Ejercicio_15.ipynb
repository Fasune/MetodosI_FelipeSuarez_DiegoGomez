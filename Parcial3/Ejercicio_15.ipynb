{
 "cells": [
  {
   "cell_type": "code",
   "execution_count": 76,
   "metadata": {},
   "outputs": [],
   "source": [
    "import numpy as np\n",
    "import sympy as sym"
   ]
  },
  {
   "cell_type": "code",
   "execution_count": 77,
   "metadata": {},
   "outputs": [],
   "source": [
    "sigmax=np.array([[0,1],\\\n",
    "           [1,0]])\n",
    "\n",
    "sigmay= np.array([[0,-1j],\\\n",
    "           [1j,0]])\n",
    "\n",
    "sigmaz= np.array([[1,0],\\\n",
    "           [0,-1]])\n"
   ]
  },
  {
   "cell_type": "code",
   "execution_count": 78,
   "metadata": {},
   "outputs": [],
   "source": [
    "def conmutar(A,B):\n",
    "    a=np.dot(A,B)\n",
    "    b=np.dot(B,A)\n",
    "    c=a-b\n",
    "    return c"
   ]
  },
  {
   "cell_type": "code",
   "execution_count": 79,
   "metadata": {},
   "outputs": [
    {
     "data": {
      "text/plain": [
       "array([[0.+2.j, 0.+0.j],\n",
       "       [0.+0.j, 0.-2.j]])"
      ]
     },
     "execution_count": 79,
     "metadata": {},
     "output_type": "execute_result"
    }
   ],
   "source": [
    "conmutar(sigmax,sigmay)\n",
    "#Se espera que el resultado sea 2i*sigmaz"
   ]
  },
  {
   "cell_type": "code",
   "execution_count": 80,
   "metadata": {},
   "outputs": [
    {
     "data": {
      "text/plain": [
       "array([[ 0, -2],\n",
       "       [ 2,  0]])"
      ]
     },
     "execution_count": 80,
     "metadata": {},
     "output_type": "execute_result"
    }
   ],
   "source": [
    "conmutar(sigmax,sigmaz)\n",
    "#Se espera que el resultado sea -2i*sigmay"
   ]
  },
  {
   "cell_type": "code",
   "execution_count": 81,
   "metadata": {},
   "outputs": [
    {
     "data": {
      "text/plain": [
       "array([[0.+0.j, 0.+0.j],\n",
       "       [0.+0.j, 0.+0.j]])"
      ]
     },
     "execution_count": 81,
     "metadata": {},
     "output_type": "execute_result"
    }
   ],
   "source": [
    "conmutar(sigmay,sigmay)\n",
    "#Se espera que el resultado sea 0"
   ]
  },
  {
   "cell_type": "code",
   "execution_count": 82,
   "metadata": {},
   "outputs": [],
   "source": [
    "def comprobacion(x,y,z):\n",
    "    sigma=[x,y,z]\n",
    "    contador=0.\n",
    "    for i in range(len(sigma)):\n",
    "        for j in range(len(sigma)):\n",
    "            conm=conmutar(sigma[i],sigma[j])\n",
    "            a=[]\n",
    "            if i==j:\n",
    "                a=np.array([[0,0],\\\n",
    "                    [0,0]])\n",
    "            elif i==0 and j==1:    #Casos con permutación par\n",
    "                a=2j*z\n",
    "            elif i==1 and j==2:\n",
    "                a=2j*x\n",
    "            elif i==2 and j==0:\n",
    "                a=2j*y\n",
    "\n",
    "            elif i==2 and j==1:    #Casos con permutación impar\n",
    "                a=-2j*x\n",
    "            elif i==0 and j==2:\n",
    "                a=-2j*y\n",
    "            elif i==1 and j==0:\n",
    "                a=-2j*z\n",
    "            dif=np.max(np.abs(conm-a))\n",
    "            if dif==0.:\n",
    "                contador += 1  #Va a aumentar cada vez que se confirme el algebra de Lie\n",
    "    \n",
    "    return contador"
   ]
  },
  {
   "cell_type": "code",
   "execution_count": 83,
   "metadata": {},
   "outputs": [
    {
     "data": {
      "text/plain": [
       "9.0"
      ]
     },
     "execution_count": 83,
     "metadata": {},
     "output_type": "execute_result"
    }
   ],
   "source": [
    "comprobacion(sigmax,sigmay,sigmaz)\n",
    "#Se espera que de 9, comprobando los 9 casos posibles"
   ]
  }
 ],
 "metadata": {
  "kernelspec": {
   "display_name": "base",
   "language": "python",
   "name": "python3"
  },
  "language_info": {
   "codemirror_mode": {
    "name": "ipython",
    "version": 3
   },
   "file_extension": ".py",
   "mimetype": "text/x-python",
   "name": "python",
   "nbconvert_exporter": "python",
   "pygments_lexer": "ipython3",
   "version": "3.8.3"
  }
 },
 "nbformat": 4,
 "nbformat_minor": 2
}

{
 "cells": [
  {
   "cell_type": "code",
   "execution_count": 146,
   "metadata": {},
   "outputs": [],
   "source": [
    "import numpy as np\n",
    "import sympy as sym\n",
    "import matplotlib.pyplot as plt"
   ]
  },
  {
   "cell_type": "code",
   "execution_count": 147,
   "metadata": {},
   "outputs": [
    {
     "data": {
      "text/plain": [
       "array([[1],\n",
       "       [2],\n",
       "       [3],\n",
       "       [4],\n",
       "       [5]])"
      ]
     },
     "execution_count": 147,
     "metadata": {},
     "output_type": "execute_result"
    }
   ],
   "source": [
    "A=np.array([[0.2, 0.1, 1, 1, 0],\\\n",
    "           [0.1, 4, -1, 1, -1],\\\n",
    "           [1, -1, 60, 0, -2],\\\n",
    "            [1, 1, 0, 8, 4],\\\n",
    "            [0, -1, -2, 4, 700]])\n",
    "\n",
    "b=np.array([[1], [2], [3], [4], [5]])\n",
    "b"
   ]
  },
  {
   "cell_type": "code",
   "execution_count": 148,
   "metadata": {},
   "outputs": [
    {
     "data": {
      "text/plain": [
       "array([[   7.4],\n",
       "       [   4.1],\n",
       "       [ 169. ],\n",
       "       [  55. ],\n",
       "       [3508. ]])"
      ]
     },
     "execution_count": 148,
     "metadata": {},
     "output_type": "execute_result"
    }
   ],
   "source": [
    "np.dot(A,b)"
   ]
  },
  {
   "cell_type": "code",
   "execution_count": 149,
   "metadata": {},
   "outputs": [],
   "source": [
    "def desConjugado(x0,A,b,tol=0.01,itmax=10):\n",
    "    r=[]\n",
    "    p=[]\n",
    "    x=[]\n",
    "    beta=[0]\n",
    "\n",
    "    r.append(np.dot(A,x0)-b)\n",
    "    x.append(x0)\n",
    "    p.append(-r[0])\n",
    "    error=1.\n",
    "    k=0.\n",
    "\n",
    "    q=-np.dot(np.transpose(r[0]),p[0])\n",
    "    w=np.dot(A,p[0])\n",
    "    e=np.dot(np.transpose(p[0]),w)\n",
    "    a=[]\n",
    "    i=1\n",
    "    while error>tol and k<itmax:\n",
    "        #for i in range(1,itmax):\n",
    "        #print(i)\n",
    "            \n",
    "        num=-np.dot(np.transpose(r[i-1]),p[i-1])\n",
    "        inter=np.dot(A,p[i-1])\n",
    "        den=np.dot(np.transpose(p[i-1]),inter)\n",
    "        a.append(num/den)\n",
    "\n",
    "        x.append(x[i-1]+a[i-1]*p[i-1])\n",
    "        r.append(np.dot(A,x[i])-b)\n",
    "\n",
    "        inter2=np.dot(A,p[i-1])\n",
    "        num2=np.dot(np.transpose(r[i]),inter2)\n",
    "        den2=np.dot(np.transpose(p[i-1]),inter2)\n",
    "        #print(num2/den2)\n",
    "        beta.append(num2/den2)\n",
    "\n",
    "        p.append(-r[i]+beta[i]*p[i-1])\n",
    "        k+=1\n",
    "\n",
    "        error=np.max(np.abs(r[i]))\n",
    "        i+=1\n",
    "    return x[-1],k\n",
    "        "
   ]
  },
  {
   "cell_type": "code",
   "execution_count": 150,
   "metadata": {},
   "outputs": [
    {
     "data": {
      "text/plain": [
       "5.0"
      ]
     },
     "execution_count": 150,
     "metadata": {},
     "output_type": "execute_result"
    }
   ],
   "source": [
    "x0=np.array([[1], [1], [1], [1], [1]])\n",
    "sol, it=desConjugado(x0,A,b)\n",
    "it"
   ]
  },
  {
   "cell_type": "code",
   "execution_count": 151,
   "metadata": {},
   "outputs": [
    {
     "data": {
      "text/plain": [
       "array([[ 7.85971308],\n",
       "       [ 0.42292641],\n",
       "       [-0.07359224],\n",
       "       [-0.54064302],\n",
       "       [ 0.01062614]])"
      ]
     },
     "execution_count": 151,
     "metadata": {},
     "output_type": "execute_result"
    }
   ],
   "source": [
    "sol"
   ]
  }
 ],
 "metadata": {
  "kernelspec": {
   "display_name": "base",
   "language": "python",
   "name": "python3"
  },
  "language_info": {
   "codemirror_mode": {
    "name": "ipython",
    "version": 3
   },
   "file_extension": ".py",
   "mimetype": "text/x-python",
   "name": "python",
   "nbconvert_exporter": "python",
   "pygments_lexer": "ipython3",
   "version": "3.8.3"
  }
 },
 "nbformat": 4,
 "nbformat_minor": 2
}

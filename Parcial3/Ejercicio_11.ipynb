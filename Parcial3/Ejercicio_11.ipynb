{
 "cells": [
  {
   "cell_type": "code",
   "execution_count": 32,
   "metadata": {},
   "outputs": [],
   "source": [
    "import numpy as np"
   ]
  },
  {
   "cell_type": "code",
   "execution_count": 33,
   "metadata": {},
   "outputs": [],
   "source": [
    "def MetodoPotencia(A, max_iteraciones=100, tolerancia=1e-6):\n",
    "    n= np.shape(A)[0]\n",
    "    it=0.\n",
    "    q = np.random.rand(n)\n",
    "    error=1.\n",
    "    while error> tolerancia:\n",
    "        z = np.dot(A, q)\n",
    "        q= z/np.linalg.norm(z)\n",
    "        Aq=np.dot(A,q)\n",
    "        mu=np.dot(q.T,Aq)      # Calculo  valor propio aprox con cociente de Rayleigh\n",
    "        error=np.linalg.norm(Aq-mu*q)\n",
    "        it+=1\n",
    "        if it > max_iteraciones:\n",
    "            break\n",
    "\n",
    "    return [q, mu]"
   ]
  },
  {
   "cell_type": "code",
   "execution_count": 34,
   "metadata": {},
   "outputs": [],
   "source": [
    "H=np.array([[1,2,-1],\\\n",
    "           [1,0,1],\\\n",
    "           [4,-4,5]])"
   ]
  },
  {
   "cell_type": "code",
   "execution_count": 35,
   "metadata": {},
   "outputs": [],
   "source": [
    "phi0, E0=MetodoPotencia(np.linalg.inv(H))"
   ]
  },
  {
   "cell_type": "code",
   "execution_count": 36,
   "metadata": {},
   "outputs": [
    {
     "data": {
      "text/plain": [
       "1.0000025179736038"
      ]
     },
     "execution_count": 36,
     "metadata": {},
     "output_type": "execute_result"
    }
   ],
   "source": [
    "E0"
   ]
  },
  {
   "cell_type": "code",
   "execution_count": 37,
   "metadata": {},
   "outputs": [
    {
     "data": {
      "text/plain": [
       "array([-0.4082481 ,  0.40824923,  0.81649621])"
      ]
     },
     "execution_count": 37,
     "metadata": {},
     "output_type": "execute_result"
    }
   ],
   "source": [
    "phi0"
   ]
  }
 ],
 "metadata": {
  "kernelspec": {
   "display_name": "base",
   "language": "python",
   "name": "python3"
  },
  "language_info": {
   "codemirror_mode": {
    "name": "ipython",
    "version": 3
   },
   "file_extension": ".py",
   "mimetype": "text/x-python",
   "name": "python",
   "nbconvert_exporter": "python",
   "pygments_lexer": "ipython3",
   "version": "3.8.3"
  }
 },
 "nbformat": 4,
 "nbformat_minor": 2
}

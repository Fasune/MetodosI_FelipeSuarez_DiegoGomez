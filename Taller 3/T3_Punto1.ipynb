{
 "cells": [
  {
   "cell_type": "code",
   "execution_count": 11,
   "metadata": {},
   "outputs": [],
   "source": [
    "import numpy as np"
   ]
  },
  {
   "cell_type": "code",
   "execution_count": 12,
   "metadata": {},
   "outputs": [],
   "source": [
    "def multMatrices(A,B):\n",
    "    if len(A[0])!=len(B):\n",
    "        return 'No se pueden multiplicar las matrices'\n",
    "    else:\n",
    "        n=np.shape(A)[0]\n",
    "        C=np.zeros((n,np.shape(B[0])[0]))\n",
    "        BT=np.transpose(B)\n",
    "        for i in range(n):\n",
    "            for j in range(np.shape(B[0])[0]):\n",
    "                C[i,j]=np.dot(A[i],BT[j])\n",
    "        return C\n",
    "\n"
   ]
  },
  {
   "cell_type": "code",
   "execution_count": 13,
   "metadata": {},
   "outputs": [
    {
     "data": {
      "text/plain": [
       "array([[ 39.],\n",
       "       [ 23.],\n",
       "       [ 12.],\n",
       "       [-42.],\n",
       "       [ 32.]])"
      ]
     },
     "execution_count": 13,
     "metadata": {},
     "output_type": "execute_result"
    }
   ],
   "source": [
    "#Punto 1.a\n",
    "A=np.array([[5,-4,-2],\\\n",
    "           [5,-5,4],\\\n",
    "           [2,5,-4],\\\n",
    "           [-5,4,3],\\\n",
    "           [3,-4,-3]])\n",
    "\n",
    "B=np.array([[5], [-2], [-3]])\n",
    "C=multMatrices(A,B)\n",
    "C\n"
   ]
  },
  {
   "cell_type": "code",
   "execution_count": 14,
   "metadata": {},
   "outputs": [
    {
     "data": {
      "text/plain": [
       "'No se pueden multiplicar las matrices'"
      ]
     },
     "execution_count": 14,
     "metadata": {},
     "output_type": "execute_result"
    }
   ],
   "source": [
    "#Punto 1.b\n",
    "A=np.array([[0,-1,-1,3],\\\n",
    "           [5,-5,-2,2],\\\n",
    "           [1,0,4,5]])\n",
    "\n",
    "B=np.array([[0,-3], [-2,-1], [3,-3]])\n",
    "C=multMatrices(A,B)\n",
    "C"
   ]
  },
  {
   "cell_type": "code",
   "execution_count": 15,
   "metadata": {},
   "outputs": [
    {
     "data": {
      "text/plain": [
       "array([[ 12.,  27., -13.,  25., -37.],\n",
       "       [  2.,  51., -39., -46., -23.],\n",
       "       [ 27.,  -1., -19.,  16., -20.],\n",
       "       [ 13.,  25., -91.,  -1., -56.]])"
      ]
     },
     "execution_count": 15,
     "metadata": {},
     "output_type": "execute_result"
    }
   ],
   "source": [
    "#Punto 1.c\n",
    "A=np.array([[2,-5,5,1],\\\n",
    "           [5,2,-7,-6],\\\n",
    "           [-6,-1,7,-4],\\\n",
    "            [5,4,1,-5]])\n",
    "\n",
    "B=np.array([[0,4,-7,1,-6],\\\n",
    "           [-1,-6,-5,1,1],\\\n",
    "           [2,-1,-6,5,-5],\\\n",
    "            [-3,-6,6,3,5]])\n",
    "C=multMatrices(A,B)\n",
    "C"
   ]
  }
 ],
 "metadata": {
  "kernelspec": {
   "display_name": "base",
   "language": "python",
   "name": "python3"
  },
  "language_info": {
   "codemirror_mode": {
    "name": "ipython",
    "version": 3
   },
   "file_extension": ".py",
   "mimetype": "text/x-python",
   "name": "python",
   "nbconvert_exporter": "python",
   "pygments_lexer": "ipython3",
   "version": "3.8.3"
  }
 },
 "nbformat": 4,
 "nbformat_minor": 2
}

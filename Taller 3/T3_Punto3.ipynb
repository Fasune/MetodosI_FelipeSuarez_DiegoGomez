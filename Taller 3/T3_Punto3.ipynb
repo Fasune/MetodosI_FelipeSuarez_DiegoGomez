{
 "cells": [
  {
   "cell_type": "code",
   "execution_count": 105,
   "metadata": {},
   "outputs": [],
   "source": [
    "import numpy as np\n",
    "import sympy as sym"
   ]
  },
  {
   "cell_type": "code",
   "execution_count": 106,
   "metadata": {},
   "outputs": [],
   "source": [
    "def MetodoPotencia(A, max_iteraciones=100, tolerancia=1e-6):\n",
    "    n= np.shape(A)[0]\n",
    "    it=0.\n",
    "    q = np.random.rand(n)\n",
    "    error=1.\n",
    "    while error> tolerancia:\n",
    "        z = np.dot(A, q)\n",
    "        q= z/np.linalg.norm(z)\n",
    "        Aq=np.dot(A,q)\n",
    "        mu=np.dot(q.T,Aq)      # Calculo  valor propio aprox con cociente de Rayleigh\n",
    "        error=np.linalg.norm(Aq-mu*q)\n",
    "        it+=1\n",
    "        if it > max_iteraciones:\n",
    "            break\n",
    "\n",
    "    return [q, mu]\n"
   ]
  },
  {
   "cell_type": "code",
   "execution_count": 107,
   "metadata": {},
   "outputs": [],
   "source": [
    "A=np.array([[-2,1,0],\\\n",
    "           [1,-2,1],\\\n",
    "           [0,1,-2]])"
   ]
  },
  {
   "cell_type": "code",
   "execution_count": 108,
   "metadata": {},
   "outputs": [],
   "source": [
    "v,e=MetodoPotencia(A)"
   ]
  },
  {
   "cell_type": "code",
   "execution_count": 109,
   "metadata": {},
   "outputs": [],
   "source": [
    "x,y=MetodoPotencia(np.linalg.inv(A))"
   ]
  },
  {
   "cell_type": "code",
   "execution_count": 110,
   "metadata": {},
   "outputs": [
    {
     "data": {
      "text/plain": [
       "array([ 0.49999965, -0.70710678,  0.50000035])"
      ]
     },
     "execution_count": 110,
     "metadata": {},
     "output_type": "execute_result"
    }
   ],
   "source": [
    "v"
   ]
  },
  {
   "cell_type": "code",
   "execution_count": 111,
   "metadata": {},
   "outputs": [
    {
     "data": {
      "text/plain": [
       "array([0.50000019, 0.70710678, 0.49999981])"
      ]
     },
     "execution_count": 111,
     "metadata": {},
     "output_type": "execute_result"
    }
   ],
   "source": [
    "x"
   ]
  },
  {
   "cell_type": "code",
   "execution_count": 112,
   "metadata": {},
   "outputs": [
    {
     "data": {
      "text/plain": [
       "-3.414213562372754"
      ]
     },
     "execution_count": 112,
     "metadata": {},
     "output_type": "execute_result"
    }
   ],
   "source": [
    "e"
   ]
  },
  {
   "cell_type": "code",
   "execution_count": 113,
   "metadata": {},
   "outputs": [],
   "source": [
    "#Suponiendo m1=m2=m3=m\n",
    "_K = sym.Symbol('K',real=True)\n",
    "_m = sym.Symbol('m',real=True)\n",
    "frec_maxima=np.sqrt(-e)*(_K/_m)**(1/2)\n",
    "a=np.linalg.norm(np.dot(A,x))\n",
    "frec_minima=np.sqrt(a)*(_K/_m)**(1/2)\n"
   ]
  },
  {
   "cell_type": "code",
   "execution_count": 118,
   "metadata": {},
   "outputs": [
    {
     "name": "stdout",
     "output_type": "stream",
     "text": [
      "Frecuencia máxima del sistema: 1.84775906502248*(K/m)**0.5\n",
      "Las amplitudes asociadas a la frecuencia máxima son: [ 0.49999965 -0.70710678  0.50000035]\n",
      "Frecuencia mínima del sistema: 0.765366864730332*(K/m)**0.5\n",
      "Las amplitudes asociadas a la frecuencia mínima son: [0.50000019 0.70710678 0.49999981]\n"
     ]
    }
   ],
   "source": [
    "print(\"Frecuencia máxima del sistema:\", frec_maxima)\n",
    "print(\"Las amplitudes asociadas a la frecuencia máxima son:\", v)\n",
    "print(\"Frecuencia mínima del sistema:\", frec_minima)\n",
    "print(\"Las amplitudes asociadas a la frecuencia mínima son:\", x)"
   ]
  }
 ],
 "metadata": {
  "kernelspec": {
   "display_name": "base",
   "language": "python",
   "name": "python3"
  },
  "language_info": {
   "codemirror_mode": {
    "name": "ipython",
    "version": 3
   },
   "file_extension": ".py",
   "mimetype": "text/x-python",
   "name": "python",
   "nbconvert_exporter": "python",
   "pygments_lexer": "ipython3",
   "version": "3.8.3"
  }
 },
 "nbformat": 4,
 "nbformat_minor": 2
}

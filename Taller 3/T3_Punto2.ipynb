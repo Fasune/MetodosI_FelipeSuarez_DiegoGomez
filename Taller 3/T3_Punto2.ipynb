{
 "cells": [
  {
   "cell_type": "code",
   "execution_count": 1,
   "id": "9f4ae3f0",
   "metadata": {},
   "outputs": [
    {
     "data": {
      "text/html": [
       "<style>.container { width:100% !important; }</style>"
      ],
      "text/plain": [
       "<IPython.core.display.HTML object>"
      ]
     },
     "metadata": {},
     "output_type": "display_data"
    }
   ],
   "source": [
    "from IPython.display import display, HTML\n",
    "display(HTML(\"<style>.container { width:100% !important; }</style>\"))\n",
    "import numpy as np\n",
    "import matplotlib.pyplot as plt\n",
    "from IPython.display import clear_output\n",
    "import time"
   ]
  },
  {
   "cell_type": "code",
   "execution_count": 2,
   "id": "cd799eca",
   "metadata": {},
   "outputs": [
    {
     "data": {
      "text/plain": [
       "array([[ 5., -4., -2.],\n",
       "       [ 5., -5.,  4.],\n",
       "       [ 2.,  5., -4.],\n",
       "       [-5.,  4.,  3.],\n",
       "       [ 3., -4., -3.]])"
      ]
     },
     "execution_count": 2,
     "metadata": {},
     "output_type": "execute_result"
    }
   ],
   "source": [
    "#algoritmo multiplicacion de matrices\n",
    "A=np.array([[5., -4., -2.],[5.,-5.,4.],[2.,5.,-4.],[-5.,4.,3.],[3.,-4.,-3.]])\n",
    "a=np.array([[5.],[-2.],[-3.]])\n",
    "B=np.array([0,-1])\n",
    "b=[]\n",
    "C=[]\n",
    "c=[]\n",
    "A\n"
   ]
  },
  {
   "cell_type": "code",
   "execution_count": 3,
   "id": "78397f02",
   "metadata": {},
   "outputs": [],
   "source": [
    "def multiplicar_matrices(A,B):\n",
    "    #print(len(B))\n",
    "    nueva_matriz=np.zeros((len(A),len(B[0])))\n",
    "#tengo que correr las filas de a\n",
    "#coger a11, a12, b12,b22\n",
    "    if len(A[0])==len(B):\n",
    "        for i in range(len(A)):\n",
    "            for j in range(len(B[0])):\n",
    "                valorij=np.sum(A[i,:]*B[:,j])\n",
    "                nueva_matriz[i,j]=valorij\n",
    "    else:\n",
    "        print('El número de columnas de la primera matriz debe coincidir con el número de filas de la segunda matriz.')\n",
    "    \n",
    "    return nueva_matriz"
   ]
  },
  {
   "cell_type": "code",
   "execution_count": 4,
   "id": "49090087",
   "metadata": {},
   "outputs": [
    {
     "name": "stdout",
     "output_type": "stream",
     "text": [
      "[[ 39.]\n",
      " [ 23.]\n",
      " [ 12.]\n",
      " [-42.]\n",
      " [ 32.]]\n"
     ]
    }
   ],
   "source": [
    "print(multiplicar_matrices(A,a))"
   ]
  },
  {
   "cell_type": "code",
   "execution_count": 5,
   "id": "8f57ffae",
   "metadata": {},
   "outputs": [],
   "source": [
    "def Reducciongaussiano(M):\n",
    "    n=len(M)\n",
    "    hacer_pruebas=np.copy(M)\n",
    "    M\n",
    "    for j in range(n-1):\n",
    "        for i in range(j+1,n):\n",
    "            nueva_filai=hacer_pruebas[i,:]-((hacer_pruebas[i,j]/hacer_pruebas[j,j])*hacer_pruebas[j,:])\n",
    "            #print('entra',hacer_pruebas[i,:],((hacer_pruebas[i,j]/hacer_pruebas[j,j])*hacer_pruebas[j,:]), type(nueva_filai))\n",
    "\n",
    "            hacer_pruebas[i][:]=nueva_filai        \n",
    "    return hacer_pruebas"
   ]
  },
  {
   "cell_type": "code",
   "execution_count": 12,
   "id": "ece2a947",
   "metadata": {},
   "outputs": [
    {
     "name": "stdout",
     "output_type": "stream",
     "text": [
      "[[ 3  1 -1  2]\n",
      " [ 0 -2  1  0]\n",
      " [ 0  0  1  0]]\n"
     ]
    }
   ],
   "source": [
    "M1=np.array([[3,1,-1,2],[1,-2,1,0],[4,-1,1,3]])\n",
    "print(Reducciongaussiano(M1))\n"
   ]
  },
  {
   "cell_type": "markdown",
   "id": "40f60cf1",
   "metadata": {},
   "source": [
    "Como se puede notar, $F3=0$\n",
    "\n",
    "Asi mismo, al despejar la segunda columa F2=0\n",
    "\n",
    "Y $3\\cdot F1=2$ entonces, $F1=6$"
   ]
  },
  {
   "cell_type": "code",
   "execution_count": 14,
   "id": "bb93a9fa",
   "metadata": {},
   "outputs": [
    {
     "name": "stdout",
     "output_type": "stream",
     "text": [
      "[[  1   1   1   0]\n",
      " [  0  -8  10   0]\n",
      " [  0   0 -19   6]]\n",
      "2888 912 1140 -228\n"
     ]
    }
   ],
   "source": [
    "M2=np.array([[1,1,1,0],[0,-8,10,0],[4,-8,0,6]])\n",
    "print(Reducciongaussiano(M2))\n",
    "#Como se puede notar, -19*Ic=6, entonces Ic=-6/19\n",
    "#Asi mismo, al despejar la segunda columa -8*Ib+10*Ic=0, entonces -8*Ib=-10*Ic, de modo que, Ib=Ic*10/8=(-6/19)*(10/8)=-60/152\n",
    "#E Ia + Ib+Ic=0, entonces Ia= -Ib-Ic=-60/152-(-6/19)= (-1140+912)/2888=-228\n",
    "\n",
    "\n",
    "print(152*19, 152*6, 60*19, 152*6-60*19)"
   ]
  },
  {
   "cell_type": "markdown",
   "id": "d3155991",
   "metadata": {},
   "source": [
    "Como se puede notar: $-19 \\cdot Ic=6$, entonces $Ic=-6/19$\n",
    "\n",
    "Asi mismo, al despejarla segunda columa:\n",
    "\n",
    "$-8\\cdot Ib+10\\cdot Ic=0$,\n",
    "\n",
    "Entonces: $-8\\cdot Ib=-10\\cdot Ic$, de modo que:\n",
    "\n",
    "$Ib=Ic\\cdot 10/8=(-6/19)\\cdot(10/8)=-60/152$, Asi:\n",
    "\n",
    "$Ia + Ib+Ic=0$, entonces:\n",
    "\n",
    "$Ia= -Ib-Ic=-60/152-(-6/19)= (-1140+912)/2888=-228$"
   ]
  }
 ],
 "metadata": {
  "kernelspec": {
   "display_name": "Python 3 (ipykernel)",
   "language": "python",
   "name": "python3"
  },
  "language_info": {
   "codemirror_mode": {
    "name": "ipython",
    "version": 3
   },
   "file_extension": ".py",
   "mimetype": "text/x-python",
   "name": "python",
   "nbconvert_exporter": "python",
   "pygments_lexer": "ipython3",
   "version": "3.11.4"
  }
 },
 "nbformat": 4,
 "nbformat_minor": 5
}

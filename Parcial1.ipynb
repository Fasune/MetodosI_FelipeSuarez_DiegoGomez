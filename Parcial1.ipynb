{
 "cells": [
  {
   "cell_type": "code",
   "execution_count": 61,
   "metadata": {},
   "outputs": [],
   "source": [
    "import numpy as np\n",
    "import matplotlib.pyplot as plt\n",
    "import pandas as pd\n",
    "import sympy as sym"
   ]
  },
  {
   "cell_type": "code",
   "execution_count": 62,
   "metadata": {},
   "outputs": [],
   "source": [
    "def funcion(x):\n",
    "    return np.exp(-x)-x"
   ]
  },
  {
   "cell_type": "code",
   "execution_count": 63,
   "metadata": {},
   "outputs": [
    {
     "data": {
      "image/png": "[encoded data removed]",
      "text/plain": [
       "<Figure size 432x288 with 1 Axes>"
      ]
     },
     "metadata": {
      "needs_background": "light"
     },
     "output_type": "display_data"
    }
   ],
   "source": [
    "x=np.linspace(-1,1,100)\n",
    "y=funcion(x)\n",
    "plt.plot(x,y)\n",
    "plt.grid()"
   ]
  },
  {
   "cell_type": "code",
   "execution_count": 64,
   "metadata": {},
   "outputs": [],
   "source": [
    "def Boltzano(f,a0,b0,errormin,itmax):\n",
    "    it=0.\n",
    "    b=b0\n",
    "    a=a0\n",
    "    while f(a)*f(b)>0:\n",
    "        a+=0.1\n",
    "        b+=0.1\n",
    "    c=(a+b)/2\n",
    "    return [a,b,c]\n",
    "\n"
   ]
  },
  {
   "cell_type": "code",
   "execution_count": 65,
   "metadata": {},
   "outputs": [
    {
     "data": {
      "text/plain": [
       "[-1, 1, 0.0]"
      ]
     },
     "execution_count": 65,
     "metadata": {},
     "output_type": "execute_result"
    }
   ],
   "source": [
    "x2=Boltzano(funcion,-1,1,1e-6,100)\n",
    "x2"
   ]
  },
  {
   "cell_type": "code",
   "execution_count": 66,
   "metadata": {},
   "outputs": [],
   "source": [
    "def Muller(x0,x1,x2,f,itmax=100)->str:\n",
    "    e=1.\n",
    "    it=0\n",
    "    while e>1e-6 and it<itmax:\n",
    "        f1 = (f(x1)-f(x0))/(x1-x0)\n",
    "        f2 = (f(x2)-f(x1))/(x2-x1)\n",
    "        a = (f2-f1)/(x2-x0)\n",
    "        b=f1-(x0+x1)*a\n",
    "        c=f(x0)-x0*f1+x0*x1*a\n",
    "        if b<0:\n",
    "            x3=(-2*c)/(b-(b**2-4*a*c)**(0.5))\n",
    "        else:\n",
    "            x3=(-2*c)/(b+(b**2-4*a*c)**(0.5))\n",
    "        e=np.abs(f(x3))\n",
    "        x0=x1\n",
    "        x1=x2\n",
    "        x2=x3\n",
    "        it+=1\n",
    "    return 'La raiz de la función es x='+str(x3)+' en '+str(it)+' iteraciones'\n",
    "\n",
    "        "
   ]
  },
  {
   "cell_type": "code",
   "execution_count": 69,
   "metadata": {},
   "outputs": [
    {
     "name": "stdout",
     "output_type": "stream",
     "text": [
      "La raiz de la función es x=0.5671432904086564 en 4 iteraciones\n"
     ]
    }
   ],
   "source": [
    "raiz=Muller(x2[0],x2[1],x2[2],funcion)\n",
    "print(raiz)"
   ]
  }
 ],
 "metadata": {
  "kernelspec": {
   "display_name": "base",
   "language": "python",
   "name": "python3"
  },
  "language_info": {
   "codemirror_mode": {
    "name": "ipython",
    "version": 3
   },
   "file_extension": ".py",
   "mimetype": "text/x-python",
   "name": "python",
   "nbconvert_exporter": "python",
   "pygments_lexer": "ipython3",
   "version": "3.8.3"
  },
  "orig_nbformat": 4
 },
 "nbformat": 4,
 "nbformat_minor": 2
}

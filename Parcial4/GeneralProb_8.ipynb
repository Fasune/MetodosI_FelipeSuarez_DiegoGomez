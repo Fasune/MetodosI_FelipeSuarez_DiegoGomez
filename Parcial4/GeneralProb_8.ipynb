{
 "cells": [
  {
   "cell_type": "markdown",
   "id": "1109cd34",
   "metadata": {},
   "source": [
    "Se lanzan simult´aneamente 4 monedas. Determine la probabilidad de obtener dos caras\n",
    "y dos sellos P(A) = 3/8. Realice el c´alculo de esta probabilidad usando un experimento\n",
    "virtual con N = 105\n",
    "eventos, y etiquetando los resultados con +1 y -1 para cara y sello\n",
    "respectivamente."
   ]
  },
  {
   "cell_type": "code",
   "execution_count": 5,
   "id": "1755e7dc",
   "metadata": {},
   "outputs": [],
   "source": [
    "import numpy as np\n",
    "import matplotlib.pyplot as plt"
   ]
  },
  {
   "cell_type": "code",
   "execution_count": 6,
   "id": "83226fa8",
   "metadata": {},
   "outputs": [],
   "source": [
    "def GetSample(N = int(105), ncoins = 4, Weights=None):\n",
    "    \n",
    "    Sample = np.zeros((N,ncoins))\n",
    "    \n",
    "    Events = [-1,1]\n",
    "    \n",
    "    for i in range(N):\n",
    "        \n",
    "        if Weights == None:\n",
    "            Exp = np.random.choice(Events,ncoins)\n",
    "            \n",
    "       # print(Exp)\n",
    "        Sample[i] = Exp\n",
    "        \n",
    "    return Sample"
   ]
  },
  {
   "cell_type": "code",
   "execution_count": 7,
   "id": "f8d27c70",
   "metadata": {},
   "outputs": [
    {
     "data": {
      "text/plain": [
       "array([[-1., -1.,  1., -1.],\n",
       "       [ 1.,  1.,  1., -1.],\n",
       "       [-1.,  1., -1., -1.],\n",
       "       [-1.,  1., -1., -1.],\n",
       "       [-1., -1.,  1., -1.],\n",
       "       [-1., -1., -1.,  1.],\n",
       "       [ 1., -1.,  1.,  1.],\n",
       "       [ 1.,  1., -1.,  1.],\n",
       "       [-1.,  1.,  1.,  1.],\n",
       "       [-1., -1.,  1.,  1.],\n",
       "       [ 1., -1.,  1., -1.],\n",
       "       [ 1.,  1.,  1.,  1.],\n",
       "       [-1.,  1., -1., -1.],\n",
       "       [-1., -1.,  1.,  1.],\n",
       "       [-1., -1., -1.,  1.],\n",
       "       [ 1.,  1.,  1., -1.],\n",
       "       [-1., -1., -1., -1.],\n",
       "       [-1.,  1., -1., -1.],\n",
       "       [ 1.,  1., -1.,  1.],\n",
       "       [ 1.,  1., -1., -1.],\n",
       "       [ 1.,  1., -1.,  1.],\n",
       "       [-1.,  1.,  1.,  1.],\n",
       "       [ 1.,  1., -1.,  1.],\n",
       "       [-1.,  1., -1., -1.],\n",
       "       [-1.,  1.,  1., -1.],\n",
       "       [-1.,  1.,  1.,  1.],\n",
       "       [-1., -1., -1., -1.],\n",
       "       [-1.,  1., -1.,  1.],\n",
       "       [ 1., -1.,  1., -1.],\n",
       "       [-1.,  1., -1., -1.],\n",
       "       [ 1., -1.,  1., -1.],\n",
       "       [-1.,  1., -1.,  1.],\n",
       "       [ 1.,  1., -1.,  1.],\n",
       "       [-1.,  1., -1.,  1.],\n",
       "       [ 1.,  1.,  1.,  1.],\n",
       "       [ 1.,  1., -1., -1.],\n",
       "       [ 1., -1., -1.,  1.],\n",
       "       [ 1.,  1.,  1.,  1.],\n",
       "       [-1.,  1., -1.,  1.],\n",
       "       [-1.,  1., -1., -1.],\n",
       "       [ 1., -1.,  1., -1.],\n",
       "       [ 1., -1.,  1.,  1.],\n",
       "       [ 1.,  1., -1.,  1.],\n",
       "       [-1., -1.,  1., -1.],\n",
       "       [-1., -1., -1., -1.],\n",
       "       [ 1.,  1.,  1., -1.],\n",
       "       [-1.,  1., -1., -1.],\n",
       "       [-1.,  1., -1., -1.],\n",
       "       [ 1.,  1.,  1., -1.],\n",
       "       [ 1., -1.,  1., -1.],\n",
       "       [ 1., -1., -1.,  1.],\n",
       "       [-1., -1.,  1., -1.],\n",
       "       [ 1.,  1.,  1., -1.],\n",
       "       [ 1.,  1.,  1.,  1.],\n",
       "       [ 1., -1.,  1., -1.],\n",
       "       [ 1., -1., -1.,  1.],\n",
       "       [-1.,  1., -1., -1.],\n",
       "       [-1.,  1.,  1.,  1.],\n",
       "       [ 1., -1.,  1.,  1.],\n",
       "       [ 1.,  1.,  1.,  1.],\n",
       "       [-1.,  1.,  1.,  1.],\n",
       "       [-1.,  1., -1.,  1.],\n",
       "       [ 1.,  1., -1., -1.],\n",
       "       [ 1., -1., -1.,  1.],\n",
       "       [ 1.,  1.,  1., -1.],\n",
       "       [-1.,  1.,  1.,  1.],\n",
       "       [-1., -1., -1., -1.],\n",
       "       [-1., -1., -1., -1.],\n",
       "       [-1.,  1., -1.,  1.],\n",
       "       [-1., -1.,  1., -1.],\n",
       "       [ 1., -1., -1., -1.],\n",
       "       [-1.,  1., -1., -1.],\n",
       "       [ 1., -1., -1., -1.],\n",
       "       [-1.,  1., -1., -1.],\n",
       "       [ 1.,  1.,  1., -1.],\n",
       "       [ 1.,  1., -1.,  1.],\n",
       "       [-1., -1.,  1., -1.],\n",
       "       [-1., -1.,  1., -1.],\n",
       "       [-1.,  1., -1.,  1.],\n",
       "       [ 1.,  1., -1.,  1.],\n",
       "       [ 1.,  1., -1., -1.],\n",
       "       [ 1.,  1., -1.,  1.],\n",
       "       [-1., -1.,  1.,  1.],\n",
       "       [-1., -1.,  1., -1.],\n",
       "       [-1.,  1., -1., -1.],\n",
       "       [-1., -1.,  1.,  1.],\n",
       "       [ 1.,  1.,  1., -1.],\n",
       "       [-1., -1.,  1., -1.],\n",
       "       [ 1., -1., -1., -1.],\n",
       "       [ 1.,  1., -1., -1.],\n",
       "       [ 1.,  1., -1.,  1.],\n",
       "       [ 1., -1., -1.,  1.],\n",
       "       [-1.,  1.,  1.,  1.],\n",
       "       [-1.,  1.,  1.,  1.],\n",
       "       [ 1., -1.,  1.,  1.],\n",
       "       [ 1., -1., -1., -1.],\n",
       "       [ 1.,  1.,  1., -1.],\n",
       "       [ 1., -1.,  1., -1.],\n",
       "       [-1., -1.,  1.,  1.],\n",
       "       [-1., -1.,  1.,  1.],\n",
       "       [-1.,  1.,  1.,  1.],\n",
       "       [ 1., -1., -1.,  1.],\n",
       "       [ 1.,  1., -1.,  1.],\n",
       "       [ 1.,  1.,  1., -1.],\n",
       "       [-1.,  1., -1.,  1.]])"
      ]
     },
     "execution_count": 7,
     "metadata": {},
     "output_type": "execute_result"
    }
   ],
   "source": [
    "Sample= GetSample()\n",
    "Sample"
   ]
  },
  {
   "cell_type": "code",
   "execution_count": 20,
   "id": "fe11a2ab",
   "metadata": {},
   "outputs": [],
   "source": [
    "Frecuencias = np.array([],dtype=np.int64)\n",
    "\n",
    "for i in range(Sample.shape[0]):\n",
    "    \n",
    "    NCaras = 0\n",
    "    \n",
    "    for j in range(Sample.shape[1]):\n",
    "        \n",
    "        if Sample[i,j] == -1:\n",
    "            NCaras += 1\n",
    "            \n",
    "    Frecuencias = np.append(Frecuencias,NCaras)"
   ]
  },
  {
   "cell_type": "code",
   "execution_count": 21,
   "id": "313d27b8",
   "metadata": {},
   "outputs": [
    {
     "data": {
      "text/plain": [
       "33"
      ]
     },
     "execution_count": 21,
     "metadata": {},
     "output_type": "execute_result"
    }
   ],
   "source": [
    "ii = np.where( Frecuencias == 2 )\n",
    "Events = len(Frecuencias[ii])\n",
    "Events"
   ]
  },
  {
   "cell_type": "code",
   "execution_count": 22,
   "id": "47779070",
   "metadata": {},
   "outputs": [
    {
     "data": {
      "text/plain": [
       "0.3142857142857143"
      ]
     },
     "execution_count": 22,
     "metadata": {},
     "output_type": "execute_result"
    }
   ],
   "source": [
    "Events/105"
   ]
  },
  {
   "cell_type": "code",
   "execution_count": 23,
   "id": "5840b70e",
   "metadata": {},
   "outputs": [
    {
     "data": {
      "text/plain": [
       "0.375"
      ]
     },
     "execution_count": 23,
     "metadata": {},
     "output_type": "execute_result"
    }
   ],
   "source": [
    "3/8."
   ]
  },
  {
   "cell_type": "code",
   "execution_count": 24,
   "id": "dc3d0e6b",
   "metadata": {},
   "outputs": [
    {
     "data": {
      "text/plain": [
       "(array([0.11904762, 0.        , 0.80952381, 0.        , 0.        ,\n",
       "        0.78571429, 0.        , 0.66666667, 0.        , 0.11904762]),\n",
       " array([0. , 0.4, 0.8, 1.2, 1.6, 2. , 2.4, 2.8, 3.2, 3.6, 4. ]),\n",
       " <BarContainer object of 10 artists>)"
      ]
     },
     "execution_count": 24,
     "metadata": {},
     "output_type": "execute_result"
    },
    {
     "data": {
      "image/png": "[encoded data removed]",
      "text/plain": [
       "<Figure size 640x480 with 1 Axes>"
      ]
     },
     "metadata": {},
     "output_type": "display_data"
    }
   ],
   "source": [
    "plt.hist(Frecuencias,density=True)"
   ]
  },
  {
   "cell_type": "code",
   "execution_count": null,
   "id": "71cc32b8",
   "metadata": {},
   "outputs": [],
   "source": []
  }
 ],
 "metadata": {
  "kernelspec": {
   "display_name": "Python 3 (ipykernel)",
   "language": "python",
   "name": "python3"
  },
  "language_info": {
   "codemirror_mode": {
    "name": "ipython",
    "version": 3
   },
   "file_extension": ".py",
   "mimetype": "text/x-python",
   "name": "python",
   "nbconvert_exporter": "python",
   "pygments_lexer": "ipython3",
   "version": "3.11.4"
  }
 },
 "nbformat": 4,
 "nbformat_minor": 5
}

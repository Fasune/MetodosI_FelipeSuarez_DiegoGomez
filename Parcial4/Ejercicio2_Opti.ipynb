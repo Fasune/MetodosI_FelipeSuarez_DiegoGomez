{
 "cells": [
  {
   "cell_type": "code",
   "execution_count": 1,
   "id": "057f9d8b",
   "metadata": {},
   "outputs": [],
   "source": [
    "#%matplotlib notebook\n",
    "import numpy as np\n",
    "import matplotlib.pyplot as plt\n",
    "\n",
    "import sympy as sym\n",
    "from scipy.stats import chi2\n",
    "import scipy.optimize as spo"
   ]
  },
  {
   "cell_type": "code",
   "execution_count": 2,
   "id": "e309249e",
   "metadata": {},
   "outputs": [
    {
     "name": "stdout",
     "output_type": "stream",
     "text": [
      "el minimo es:  0.2\n"
     ]
    }
   ],
   "source": [
    "def f(variables):\n",
    "    x,y,z=variables\n",
    "    return x**2 + y**2 + z**2 - 2*z + 1\n",
    "\n",
    "def g(variables):\n",
    "    x, y, z = variables\n",
    "    return 2*x - 4*y + 5*z -2\n",
    "\n",
    "p0 = [1., 1., 1.]\n",
    "constraints_ = {'type': 'eq', 'fun': g}\n",
    "\n",
    "result = spo.minimize(f, p0, constraints=constraints_)\n",
    "#print(result)\n",
    "print('el minimo es: ', np.round(result['fun'],3))\n",
    "#print('hey', 1/5)"
   ]
  }
 ],
 "metadata": {
  "kernelspec": {
   "display_name": "Python 3 (ipykernel)",
   "language": "python",
   "name": "python3"
  },
  "language_info": {
   "codemirror_mode": {
    "name": "ipython",
    "version": 3
   },
   "file_extension": ".py",
   "mimetype": "text/x-python",
   "name": "python",
   "nbconvert_exporter": "python",
   "pygments_lexer": "ipython3",
   "version": "3.8.3"
  }
 },
 "nbformat": 4,
 "nbformat_minor": 5
}

{
 "cells": [
  {
   "cell_type": "code",
   "execution_count": 1,
   "metadata": {},
   "outputs": [],
   "source": [
    "import numpy as np"
   ]
  },
  {
   "cell_type": "code",
   "execution_count": 2,
   "metadata": {},
   "outputs": [
    {
     "data": {
      "text/plain": [
       "0.008696244107486257"
      ]
     },
     "execution_count": 2,
     "metadata": {},
     "output_type": "execute_result"
    }
   ],
   "source": [
    "N=1000000\n",
    "dos_iniciales=0.\n",
    "Intercepto=0.\n",
    "for i in range(N):\n",
    "    cartas= np.arange(1,53)\n",
    "    np.random.shuffle(cartas)\n",
    "    tomadas=cartas[:5]\n",
    "    if (tomadas[0]<=13) & (tomadas[1]<=13):\n",
    "        dos_iniciales+=1\n",
    "        if (tomadas[2]<=13) & (tomadas[3]<=13) & (tomadas[4]<=13):\n",
    "            Intercepto+=1\n",
    "P_dos_iniciales=dos_iniciales/N\n",
    "P_inter=Intercepto/N\n",
    "P_condicional=P_inter/P_dos_iniciales\n",
    "P_condicional"
   ]
  },
  {
   "cell_type": "code",
   "execution_count": 3,
   "metadata": {},
   "outputs": [
    {
     "data": {
      "text/plain": [
       "0.039180971441767375"
      ]
     },
     "execution_count": 3,
     "metadata": {},
     "output_type": "execute_result"
    }
   ],
   "source": [
    "N=1000000\n",
    "tres_iniciales=0.\n",
    "Intercepto=0.\n",
    "for i in range(N):\n",
    "    cartas= np.arange(1,53)\n",
    "    np.random.shuffle(cartas)\n",
    "    tomadas=cartas[:5]\n",
    "    if (tomadas[0]<=13) & (tomadas[1]<=13) & (tomadas[2]<=13):\n",
    "        tres_iniciales+=1\n",
    "        if (tomadas[3]<=13) & (tomadas[4]<=13):\n",
    "            Intercepto+=1\n",
    "P_tres_iniciales=tres_iniciales/N\n",
    "P_inter=Intercepto/N\n",
    "P_condicional=P_inter/P_tres_iniciales\n",
    "P_condicional"
   ]
  },
  {
   "cell_type": "code",
   "execution_count": 7,
   "metadata": {},
   "outputs": [
    {
     "data": {
      "text/plain": [
       "0.18830452372195658"
      ]
     },
     "execution_count": 7,
     "metadata": {},
     "output_type": "execute_result"
    }
   ],
   "source": [
    "N=1000000\n",
    "cuatro_iniciales=0.\n",
    "Intercepto=0.\n",
    "for i in range(N):\n",
    "    cartas= np.arange(1,53)\n",
    "    np.random.shuffle(cartas)\n",
    "    tomadas=cartas[:5]\n",
    "    if (tomadas[0]<=13) & (tomadas[1]<=13) & (tomadas[2]<=13) & (tomadas[3]<=13):\n",
    "        cuatro_iniciales+=1\n",
    "        if (tomadas[4]<=13):\n",
    "            Intercepto+=1\n",
    "P_cuatro_iniciales=cuatro_iniciales/N\n",
    "P_inter=Intercepto/N\n",
    "P_condicional=P_inter/P_cuatro_iniciales\n",
    "P_condicional"
   ]
  },
  {
   "cell_type": "markdown",
   "metadata": {},
   "source": [
    "Suponga que la probabilidad de exposición a la gripe durante una epidemia es .6. La experiencia ha\n",
    "demostrado que un suero tiene 80% de éxito para prevenir que una persona inoculada contraiga la gripe\n",
    "si se expone a ella. Una persona no inoculada enfrenta una probabilidad de .90 de contraer la gripe si se\n",
    "expone a ella. Dos personas, una inoculada y otra no, realizan un trabajo altamente especializado en un\n",
    "negocio. Suponga que no están en el mismo lugar, no están en contacto con las mismas personas y no\n",
    "pueden contagiarse entre sí a la gripe. ¿Cuál es la probabilidad de que al menos una de ellas se enferme?"
   ]
  },
  {
   "cell_type": "code",
   "execution_count": 5,
   "metadata": {},
   "outputs": [
    {
     "data": {
      "text/plain": [
       "0.5952000000000001"
      ]
     },
     "execution_count": 5,
     "metadata": {},
     "output_type": "execute_result"
    }
   ],
   "source": [
    "P_contagio_I=0.6*0.2   #Probabilidad de contagio de una persona inoculada\n",
    "P_contagio_N=0.6*0.9   #Probabilidad de contagio de una persona no inoculada\n",
    "P_simultanea=P_contagio_N*P_contagio_I   #Probabilidad de que se contagien al mismo tiempo\n",
    "P_almenos_una=P_contagio_I+P_contagio_N-P_simultanea\n",
    "P_almenos_una"
   ]
  },
  {
   "cell_type": "code",
   "execution_count": 6,
   "metadata": {},
   "outputs": [
    {
     "name": "stdout",
     "output_type": "stream",
     "text": [
      "0.5946810000000001\n"
     ]
    }
   ],
   "source": [
    "M=1000000\n",
    "\n",
    "exposiciones=np.random.binomial(M,0.6)\n",
    "contagios_ino=np.random.binomial(exposiciones,0.2)\n",
    "contagios_Nino=np.random.binomial(exposiciones,0.9)\n",
    "a=np.ones((contagios_ino,1))\n",
    "b=np.zeros((M-contagios_ino,1))\n",
    "c=np.ones((contagios_Nino,1))\n",
    "d=np.zeros((M-contagios_Nino,1))\n",
    "Muestra_ino=np.concatenate((a,b))\n",
    "Muestra_Nino=np.concatenate((c,d))\n",
    "np.random.shuffle(Muestra_ino)\n",
    "np.random.shuffle(Muestra_Nino)\n",
    "Coincidencia=0.\n",
    "for i in range(M):\n",
    "    if (Muestra_ino[i]==1) & (Muestra_Nino[i]==1):\n",
    "        Coincidencia+=1\n",
    "P=(contagios_ino/M)+(contagios_Nino/M)-(Coincidencia/M)\n",
    "print(P)\n",
    "    "
   ]
  }
 ],
 "metadata": {
  "kernelspec": {
   "display_name": "base",
   "language": "python",
   "name": "python3"
  },
  "language_info": {
   "codemirror_mode": {
    "name": "ipython",
    "version": 3
   },
   "file_extension": ".py",
   "mimetype": "text/x-python",
   "name": "python",
   "nbconvert_exporter": "python",
   "pygments_lexer": "ipython3",
   "version": "3.8.3"
  }
 },
 "nbformat": 4,
 "nbformat_minor": 2
}

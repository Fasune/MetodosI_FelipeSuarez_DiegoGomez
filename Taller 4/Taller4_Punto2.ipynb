{
 "cells": [
  {
   "cell_type": "code",
   "execution_count": 1,
   "metadata": {},
   "outputs": [],
   "source": [
    "import numpy as np\n",
    "import matplotlib.pyplot as plt"
   ]
  },
  {
   "cell_type": "code",
   "execution_count": 2,
   "metadata": {},
   "outputs": [],
   "source": [
    "def muestreo(n, a, probabilidades):\n",
    "    M = 100\n",
    "    resultados = []\n",
    "    for p in probabilidades:\n",
    "    \n",
    "        aceptados = 0\n",
    "        muestra = np.random.binomial(n, p, size=50000)\n",
    "    \n",
    "        for i in range(len(muestra)):\n",
    "              if muestra[i] <= a:\n",
    "                    aceptados += 1\n",
    "    \n",
    "        P = aceptados / M\n",
    "        resultados.append(P)\n",
    "\n",
    "    return resultados"
   ]
  },
  {
   "cell_type": "code",
   "execution_count": 3,
   "metadata": {},
   "outputs": [
    {
     "data": {
      "text/plain": [
       "Text(0.5, 1.0, 'n= 5')"
      ]
     },
     "execution_count": 3,
     "metadata": {},
     "output_type": "execute_result"
    },
    {
     "data": {
      "image/png": "[encoded data removed]",
      "text/plain": [
       "<Figure size 432x288 with 1 Axes>"
      ]
     },
     "metadata": {
      "needs_background": "light"
     },
     "output_type": "display_data"
    }
   ],
   "source": [
    "prob = np.linspace(0, 1, 100)\n",
    "res= muestreo(5, 1,prob)\n",
    "plt.plot(prob,res)\n",
    "plt.grid()\n",
    "plt.ylabel('Aceptación piezas de la muestra')\n",
    "plt.xlabel('p')\n",
    "plt.title('n= 5')"
   ]
  },
  {
   "cell_type": "code",
   "execution_count": 4,
   "metadata": {},
   "outputs": [
    {
     "data": {
      "text/plain": [
       "Text(0.5, 1.0, 'n= 25')"
      ]
     },
     "execution_count": 4,
     "metadata": {},
     "output_type": "execute_result"
    },
    {
     "data": {
      "image/png": "[encoded data removed]",
      "text/plain": [
       "<Figure size 432x288 with 1 Axes>"
      ]
     },
     "metadata": {
      "needs_background": "light"
     },
     "output_type": "display_data"
    }
   ],
   "source": [
    "res2= muestreo(25,5,prob)\n",
    "plt.plot(prob,res2)\n",
    "plt.grid()\n",
    "plt.ylabel('Aceptación piezas de la muestra')\n",
    "plt.xlabel('p')\n",
    "plt.title('n= 25')"
   ]
  },
  {
   "cell_type": "markdown",
   "metadata": {},
   "source": [
    "a) Con proporción de piezas defectuosas menores a p=0.1 preferiría el plan de muestreo con n=5 y a=1, pues este presenta menor aceptación de las piezas para este rango de proporción, es decir, se tiene una mayor calidad de las piezas porque se aceptan menos lotes\n",
    "\n",
    "b) Por otro lado, si fuese comprador y quisiera evitar aceptar lotes con fracción de piezas defectuosas mayor a p=0.3 se selecciona el plan con n=25, pues casí no acepta lotes con piezas defectuosas en proporciones mayores a p=0.3"
   ]
  },
  {
   "cell_type": "code",
   "execution_count": 5,
   "metadata": {},
   "outputs": [
    {
     "name": "stdout",
     "output_type": "stream",
     "text": [
      "5\n",
      "0.0030656620097620196\n"
     ]
    }
   ],
   "source": [
    "# PARTE 2\n",
    "# a)\n",
    "l=1\n",
    "objetivo=0.01\n",
    "prob=1.\n",
    "n=0\n",
    "while prob > objetivo:\n",
    "    n+=1\n",
    "    prob=(np.exp(-l) * (l)**n )/ np.math.factorial(n)\n",
    "\n",
    "print(n)\n",
    "print(prob)"
   ]
  },
  {
   "cell_type": "code",
   "execution_count": 6,
   "metadata": {},
   "outputs": [
    {
     "name": "stdout",
     "output_type": "stream",
     "text": [
      "menor valor de n: 5\n",
      "probabilidad: 0.003\n"
     ]
    }
   ],
   "source": [
    "l=1\n",
    "objetivo=0.01\n",
    "prob=1.\n",
    "desconexiones=np.random.poisson(l,10000)\n",
    "probs=np.arange(1,101)\n",
    "p=np.zeros(100)\n",
    "for i in range(len(desconexiones)):\n",
    "    for j in range(1,100):\n",
    "        if desconexiones[i]==j:\n",
    "            p[j-1]+=1\n",
    "        \n",
    "p/=10000\n",
    "it=0\n",
    "for i in p:\n",
    "    it+=1\n",
    "    if i<objetivo:\n",
    "        print('menor valor de n: '+str(it))\n",
    "        print('probabilidad: '+str(i))\n",
    "        break"
   ]
  },
  {
   "cell_type": "code",
   "execution_count": 7,
   "metadata": {},
   "outputs": [
    {
     "name": "stdout",
     "output_type": "stream",
     "text": [
      "17.0\n",
      "0.01831563888873418\n"
     ]
    }
   ],
   "source": [
    "# b)\n",
    "tasa=0.25\n",
    "objetivo=0.02\n",
    "tiempo=1.\n",
    "n=0\n",
    "while prob > objetivo:\n",
    "    prob=(np.exp(-tasa*tiempo) * (tasa*tiempo)**0 )/ np.math.factorial(0)\n",
    "    tiempo+=1\n",
    "\n",
    "print(tiempo)\n",
    "print(prob)"
   ]
  },
  {
   "cell_type": "code",
   "execution_count": 8,
   "metadata": {},
   "outputs": [
    {
     "name": "stdout",
     "output_type": "stream",
     "text": [
      "Menor número de horas: 17.0\n"
     ]
    }
   ],
   "source": [
    "tiempo=1.\n",
    "prob=1.\n",
    "while prob>objetivo:\n",
    "    desconexiones=np.random.poisson(tasa*tiempo,10000)\n",
    "    tiempo+=1\n",
    "    cumplen=desconexiones[~(desconexiones>0)]\n",
    "    prob=len(cumplen)/10000\n",
    "\n",
    "print('Menor número de horas: '+str(tiempo))"
   ]
  },
  {
   "cell_type": "code",
   "execution_count": 12,
   "metadata": {},
   "outputs": [
    {
     "name": "stdout",
     "output_type": "stream",
     "text": [
      "0.14699594306608088\n"
     ]
    }
   ],
   "source": [
    "# C)\n",
    "#Que haya solo uno sin desconexiones implica que los otros tengan desconexiones\n",
    "tiempo=4.\n",
    "prob=1.\n",
    "prob_no_desc=(np.exp(-tasa*tiempo) * (tasa*tiempo)**0 )/ np.math.factorial(0)\n",
    "prob_evento=((1-prob_no_desc)**2)*prob_no_desc\n",
    "print(prob_evento)\n"
   ]
  },
  {
   "cell_type": "code",
   "execution_count": 38,
   "metadata": {},
   "outputs": [
    {
     "data": {
      "text/plain": [
       "0.14702011531653533"
      ]
     },
     "execution_count": 38,
     "metadata": {},
     "output_type": "execute_result"
    }
   ],
   "source": [
    "tiempo=4.\n",
    "prob=np.zeros(3)\n",
    "for i in range(3):\n",
    "    desconexiones=np.random.poisson(tasa*tiempo,1000000)\n",
    "    cumplen=desconexiones[~(desconexiones>0)]\n",
    "    prob[i]=len(cumplen)/1000000\n",
    "\n",
    "#np.random.shuffle(prob)\n",
    "prob_evento=prob[0]*(1-prob[1])*(1-prob[2])\n",
    "prob_evento"
   ]
  },
  {
   "cell_type": "code",
   "execution_count": 39,
   "metadata": {},
   "outputs": [
    {
     "name": "stdout",
     "output_type": "stream",
     "text": [
      "0.04978706836786395\n"
     ]
    }
   ],
   "source": [
    "# D)\n",
    "#El valor esperado es la tasa Lambda en ese periodo de horas, o sea, una desconexión\n",
    "tiempo=4.\n",
    "prob_1desc=(np.exp(-tasa*tiempo) * (tasa*tiempo)**1 )/ np.math.factorial(1)\n",
    "prob_evento=(prob_1desc)**3\n",
    "print(prob_evento)"
   ]
  },
  {
   "cell_type": "code",
   "execution_count": 48,
   "metadata": {},
   "outputs": [
    {
     "data": {
      "text/plain": [
       "0.04978968598444895"
      ]
     },
     "execution_count": 48,
     "metadata": {},
     "output_type": "execute_result"
    }
   ],
   "source": [
    "prob=np.zeros(3)\n",
    "for i in range(3):\n",
    "    desconexiones=np.random.poisson(tasa*tiempo,1000000)\n",
    "    cumplen=desconexiones[(desconexiones ==1)]\n",
    "    prob[i]=len(cumplen)/1000000\n",
    "\n",
    "#np.random.shuffle(prob)\n",
    "prob_evento=(prob[0])*(prob[1])*(prob[2])\n",
    "prob_evento"
   ]
  }
 ],
 "metadata": {
  "kernelspec": {
   "display_name": "base",
   "language": "python",
   "name": "python3"
  },
  "language_info": {
   "codemirror_mode": {
    "name": "ipython",
    "version": 3
   },
   "file_extension": ".py",
   "mimetype": "text/x-python",
   "name": "python",
   "nbconvert_exporter": "python",
   "pygments_lexer": "ipython3",
   "version": "3.8.3"
  }
 },
 "nbformat": 4,
 "nbformat_minor": 2
}

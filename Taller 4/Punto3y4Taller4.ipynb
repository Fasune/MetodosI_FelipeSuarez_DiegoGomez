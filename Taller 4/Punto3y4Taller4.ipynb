{
 "cells": [
  {
   "cell_type": "markdown",
   "id": "fee15246",
   "metadata": {},
   "source": [
    "## Punto 4"
   ]
  },
  {
   "cell_type": "code",
   "execution_count": 1,
   "id": "44a4ab8e",
   "metadata": {},
   "outputs": [],
   "source": [
    "import numpy as np\n",
    "import scipy as sci\n",
    "import matplotlib.pyplot as plt\n",
    "# por orden en las matrices A=0 C=1 G=2 T=3\n",
    "\n",
    "priori=[0.25,0.,0.5,0.25]\n",
    "matriz_transicion= np.array([[0.4,0.2,0.2,0.2],[0.25,0.25,0.25,0.25],[0.3,0.3,0.1,0.3],[0.1,0.1,0.1,0.7]])\n",
    "matriz_trans=matriz_transicion.copy().T\n",
    "matriz_emision=[[0.8,0,0,0.2],[0.05,0.9,0.1],[0.05,0.1,0.9,0],[0.1,0,0,0.7]]"
   ]
  },
  {
   "cell_type": "code",
   "execution_count": 2,
   "id": "f0babd09",
   "metadata": {},
   "outputs": [
    {
     "name": "stdout",
     "output_type": "stream",
     "text": [
      "0.1\n",
      "0.3\n",
      "0.25\n",
      "0.1\n",
      "0.25\n",
      "0.4\n",
      "0.4\n",
      "[0.25 0.25 0.25 0.25] 0.25 [0.1, 0.3, 0.25, 0.1, 0.25, 0.4, 0.4]\n",
      "la probabilidad es  7.500000000000001e-06\n"
     ]
    }
   ],
   "source": [
    "#Encuentre la probabilidad de obtener el gen g = [T, G, C, T, C, A, A, A]\n",
    "g=[3,2,1,3,1,0,0,0]\n",
    "n=len(matriz_transicion)\n",
    "multiplicatoria=[]\n",
    "for k in range(len(g)-1):\n",
    "    cada_uno=matriz_trans[g[k+1]][g[k]]\n",
    "    print(cada_uno)\n",
    "    #print([g[k+1]],[g[k]], priori[g[0]])\n",
    "    multiplicatoria.append(cada_uno)\n",
    "print(matriz_transicion[1], priori[g[0]], multiplicatoria)\n",
    "#total=np.prod(np.array(multiplicatoria))\n",
    "\n",
    "total_punto1=np.prod(np.array(multiplicatoria))*priori[g[0]]\n",
    "print('la probabilidad es ',total_punto1)"
   ]
  },
  {
   "cell_type": "code",
   "execution_count": 3,
   "id": "753ca68d",
   "metadata": {},
   "outputs": [
    {
     "name": "stdout",
     "output_type": "stream",
     "text": [
      "la probabilidad es  1.3716864000000004e-06\n"
     ]
    }
   ],
   "source": [
    "#punto2 recordar que cambian a cadenas complementarias, por filas ACGT, por columnas UGCA\n",
    "# gen generado gg= [A, C, G, A, G, U, U, U]\n",
    "gg=[3,2,1,3,1,0,0,0]\n",
    "mult=[]\n",
    "for k in range(len(gg)):\n",
    "    cada_uno2=matriz_emision[gg[k]][g[k]]\n",
    "    mult.append(cada_uno2)\n",
    "total_punto2=np.prod(np.array(mult))*total_punto1\n",
    "print('la probabilidad es ',total_punto2)"
   ]
  },
  {
   "cell_type": "markdown",
   "id": "8a03bd65",
   "metadata": {},
   "source": [
    "## Punto 3\n",
    "Suponga que el error en la temperatura en un experimento controlado de laboratorio es una variable\n",
    "aleatoria continua X, que tiene la siguiente funci´on de densidad de probabilidad:\n",
    "\n",
    "\n",
    "f(x) = $\\frac{x^2}{3} \\, para −1 ≤ x ≤ 2$\n",
    "\n",
    "        $0 ≤ en otro caso$        "
   ]
  },
  {
   "cell_type": "code",
   "execution_count": 4,
   "id": "44eac630",
   "metadata": {},
   "outputs": [],
   "source": [
    "def f(x):\n",
    "    if x>-1 and x<2:\n",
    "        return (x**2)/3\n",
    "    else:\n",
    "        return 0"
   ]
  },
  {
   "cell_type": "code",
   "execution_count": 5,
   "id": "374ff0a0",
   "metadata": {},
   "outputs": [
    {
     "name": "stdout",
     "output_type": "stream",
     "text": [
      "0.11111111111111 0.77777777777778 1.0\n"
     ]
    }
   ],
   "source": [
    "#Punto 1 Encuentre las probabilidades:\n",
    "#a) P(0 < X ≤ 1)\n",
    "#b) P(1 < X ≤ 2)\n",
    "\n",
    "prob_a=sci.integrate.quad(f, 0, 1)\n",
    "prob_b=sci.integrate.quad(f, 1, 2)\n",
    "prob_c=sci.integrate.quad(f, -1, 2)\n",
    "print(np.round(prob_a[0],14), np.round(prob_b[0],14), np.round(prob_c[0],14))"
   ]
  },
  {
   "cell_type": "code",
   "execution_count": 6,
   "id": "0e3bfc39",
   "metadata": {},
   "outputs": [],
   "source": [
    "#punto 2 Se supone que las calificaciones de un examen est´an normalmente distribuidas con media 78 y varianza de 36.\n",
    "std=np.sqrt(36)\n",
    "#funcion_normal=np.random.normal(loc=78,scale=std, size=(100))\n",
    "\n",
    "#def funcion_normal(x):\n",
    "#    return (1/((np.sqrt(36))*np.sqrt(2*np.pi)))*-((x-78)**2)/(2*(np.sqrt(36))**2)\n",
    "z = (72 - 78) / std\n",
    "# Probabilidad de obtener una calificación mayor a 72"
   ]
  },
  {
   "cell_type": "markdown",
   "id": "8ffdbc80",
   "metadata": {},
   "source": [
    "a) ¿Cual es la probabilidad de que una persona que haga el examen alcance calificaciones mayores de\n",
    "72?\n",
    "\n",
    "\n",
    "b) Suponga que los estudiantes que alcancen el 10 % m´as alto de esta distribuci´on reciben una\n",
    "calificacion de A. ¿Cu´al es la calificaci´on m´ınima que un estudiante debe recibir para ganar una\n",
    "calificacion de A?\n",
    "\n",
    "\n",
    "c) ¿Cual debe ser el punto l´ımite para pasar el examen si el examinador desea pasar a solo 28,1 % mas\n",
    "alto de todas las calificaciones?\n",
    "\n",
    "\n",
    "d) Aproximadamente que proporci´on de estudiantes tienen calificaciones de 5 o m´as puntos arriba de\n",
    "la calificacion que corta al 25 % mas bajo?\n",
    "\n",
    "\n",
    "e) Si se sabe que la calificaci´on de un estudiante excede de 72, ¿cual es la probabilidad de que su\n",
    "calificacion exceda de 84?"
   ]
  },
  {
   "cell_type": "code",
   "execution_count": 7,
   "id": "9bccef99",
   "metadata": {},
   "outputs": [
    {
     "name": "stdout",
     "output_type": "stream",
     "text": [
      "probabilidad mayor a 72:  0.8413 0.8413\n"
     ]
    }
   ],
   "source": [
    "probabilidad_mayor_a_72 = 1 - sci.stats.norm.cdf(72.,78.,std)\n",
    "#probabilidad_mayor_a_72_ = 1 - sci.stats.norm.cdf(z)\n",
    "P=np.linspace(0,1,5000)\n",
    "#for i in P:\n",
    "a=72\n",
    "def sacar_prob(P,a):\n",
    "    array_final=[]\n",
    "    for i in P:\n",
    "        array_valores=np.random.normal(loc=78,scale=std,size=15000)\n",
    "        para_condicion=array_valores.copy()\n",
    "        para_condicion = array_valores>a\n",
    "        conteo=np.sum(para_condicion)\n",
    "        array_final.append(conteo/15000)\n",
    "        \n",
    "    #array_valores=np.array(array_valores)\n",
    "    return np.array(array_final)\n",
    "prob_mayor_72=np.mean(sacar_prob(P,a))\n",
    "\n",
    "print('probabilidad mayor a 72: ', np.round(probabilidad_mayor_a_72,4), np.round(prob_mayor_72,4))"
   ]
  },
  {
   "cell_type": "code",
   "execution_count": 8,
   "id": "c175fa5a",
   "metadata": {},
   "outputs": [
    {
     "name": "stdout",
     "output_type": "stream",
     "text": [
      "la calificacion minima deberia ser:  85.69\n",
      " el limite del examinador deberia ser:  81.48\n"
     ]
    }
   ],
   "source": [
    "#import seaborn as sns\n",
    "#sacar_promedio=[]\n",
    "#for i in range(10000):\n",
    " #   norm = np.random.normal(loc=78.,scale=std, size=(10000))\n",
    "#sns.histplot(norm, kde=True)\n",
    "  #  prob_mayor_72=np.sum(norm[norm>72.])/np.sum(norm)\n",
    "   # sacar_promedio.append(prob_mayor_72)\n",
    "\n",
    "#print(np.mean(sacar_promedio))\n",
    "#probabilidades=sacar_prob(n,P,a)\n",
    "esto=[]\n",
    "for i in range(1000):\n",
    "    valores_norm=np.random.normal(loc=78,scale=std,size=15000)\n",
    "    esto.append(valores_norm)\n",
    "esto=np.array(esto)\n",
    "nota1=np.percentile(esto,90)\n",
    "nota2=np.percentile(esto,71.9)\n",
    "print('la calificacion minima deberia ser: ', np.round(nota1,2))\n",
    "print(' el limite del examinador deberia ser: ', np.round(nota2,2))"
   ]
  },
  {
   "cell_type": "code",
   "execution_count": 9,
   "id": "14fde0f6",
   "metadata": {},
   "outputs": [
    {
     "name": "stdout",
     "output_type": "stream",
     "text": [
      "78.95\n",
      "la proporcion de estudiantes es de aprox.:  0.44\n"
     ]
    }
   ],
   "source": [
    "nota_c=float(np.round(np.percentile(esto,25),2)+5)\n",
    "print(nota_c)\n",
    "P=np.linspace(0,1,5000)\n",
    "def sacar_prob_c(P,a):\n",
    "    array_final=[]\n",
    "    for i in P:\n",
    "        array_valores=np.random.normal(loc=78,scale=std,size=15000)\n",
    "        para_condicion=array_valores.copy()\n",
    "        para_condicion = array_valores>=a\n",
    "        conteo=np.sum(para_condicion)\n",
    "        array_final.append(conteo/15000)\n",
    "    return np.array(array_final)\n",
    "prob_mayor_5mas=np.mean(sacar_prob_c(P,float(nota_c)))\n",
    "print('la proporcion de estudiantes es de aprox.: ', np.round(prob_mayor_5mas,2))"
   ]
  },
  {
   "cell_type": "code",
   "execution_count": 10,
   "id": "8cddf8cb",
   "metadata": {},
   "outputs": [
    {
     "name": "stdout",
     "output_type": "stream",
     "text": [
      "la probabilidad de exceder 84 dado que excede 72 es de:  0.159\n"
     ]
    }
   ],
   "source": [
    "prob_mayor_84=np.mean(sacar_prob(P,84))\n",
    "prob_d=prob_mayor_84*prob_mayor_72/prob_mayor_72\n",
    "print('la probabilidad de exceder 84 dado que excede 72 es de: ', np.round(prob_d,3))"
   ]
  }
 ],
 "metadata": {
  "kernelspec": {
   "display_name": "Python 3 (ipykernel)",
   "language": "python",
   "name": "python3"
  },
  "language_info": {
   "codemirror_mode": {
    "name": "ipython",
    "version": 3
   },
   "file_extension": ".py",
   "mimetype": "text/x-python",
   "name": "python",
   "nbconvert_exporter": "python",
   "pygments_lexer": "ipython3",
   "version": "3.11.4"
  }
 },
 "nbformat": 4,
 "nbformat_minor": 5
}
